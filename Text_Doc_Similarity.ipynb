{
  "nbformat": 4,
  "nbformat_minor": 0,
  "metadata": {
    "colab": {
      "provenance": [],
      "authorship_tag": "ABX9TyND+n6ae//hZfOKmszHYCLQ",
      "include_colab_link": true
    },
    "kernelspec": {
      "name": "python3",
      "display_name": "Python 3"
    },
    "language_info": {
      "name": "python"
    }
  },
  "cells": [
    {
      "cell_type": "markdown",
      "metadata": {
        "id": "view-in-github",
        "colab_type": "text"
      },
      "source": [
        "<a href=\"https://colab.research.google.com/github/AtharvaGhodki/Text-Doc-Semantic-Similarity/blob/main/Text_Doc_Similarity.ipynb\" target=\"_parent\"><img src=\"https://colab.research.google.com/assets/colab-badge.svg\" alt=\"Open In Colab\"/></a>"
      ]
    },
    {
      "cell_type": "code",
      "execution_count": null,
      "metadata": {
        "id": "RHpQ8pd2M4hd"
      },
      "outputs": [],
      "source": [
        "import numpy as np\n",
        "import pandas as pd\n",
        "import matplotlib.pyplot as plt\n",
        "import seaborn as sns\n",
        "\n",
        "%matplotlib inline"
      ]
    },
    {
      "cell_type": "code",
      "source": [
        "df=pd.read_csv('Text_Similarity.csv')"
      ],
      "metadata": {
        "id": "ONa9uHjANMSG"
      },
      "execution_count": null,
      "outputs": []
    },
    {
      "cell_type": "code",
      "source": [
        "df.head()"
      ],
      "metadata": {
        "colab": {
          "base_uri": "https://localhost:8080/",
          "height": 206
        },
        "id": "3ZDM8jhOPPsP",
        "outputId": "f82ad17d-7fe8-45f3-df1b-192dfe25a7b1"
      },
      "execution_count": null,
      "outputs": [
        {
          "output_type": "execute_result",
          "data": {
            "text/plain": [
              "                                               text1  \\\n",
              "0  broadband challenges tv viewing the number of ...   \n",
              "1  rap boss arrested over drug find rap mogul mar...   \n",
              "2  player burn-out worries robinson england coach...   \n",
              "3  hearts of oak 3-2 cotonsport hearts of oak set...   \n",
              "4  sir paul rocks super bowl crowds sir paul mcca...   \n",
              "\n",
              "                                               text2  similarity  \n",
              "0  gardener wins double in glasgow britain s jaso...    0.086190  \n",
              "1  amnesty chief laments war failure the lack of ...    0.165480  \n",
              "2  hanks greeted at wintry premiere hollywood sta...    0.077801  \n",
              "3  redford s vision of sundance despite sporting ...    0.000900  \n",
              "4  mauresmo opens with victory in la amelie maure...    0.088690  "
            ],
            "text/html": [
              "\n",
              "\n",
              "  <div id=\"df-84b01a02-546e-4042-9c54-bd44a006988b\">\n",
              "    <div class=\"colab-df-container\">\n",
              "      <div>\n",
              "<style scoped>\n",
              "    .dataframe tbody tr th:only-of-type {\n",
              "        vertical-align: middle;\n",
              "    }\n",
              "\n",
              "    .dataframe tbody tr th {\n",
              "        vertical-align: top;\n",
              "    }\n",
              "\n",
              "    .dataframe thead th {\n",
              "        text-align: right;\n",
              "    }\n",
              "</style>\n",
              "<table border=\"1\" class=\"dataframe\">\n",
              "  <thead>\n",
              "    <tr style=\"text-align: right;\">\n",
              "      <th></th>\n",
              "      <th>text1</th>\n",
              "      <th>text2</th>\n",
              "      <th>similarity</th>\n",
              "    </tr>\n",
              "  </thead>\n",
              "  <tbody>\n",
              "    <tr>\n",
              "      <th>0</th>\n",
              "      <td>broadband challenges tv viewing the number of ...</td>\n",
              "      <td>gardener wins double in glasgow britain s jaso...</td>\n",
              "      <td>0.086190</td>\n",
              "    </tr>\n",
              "    <tr>\n",
              "      <th>1</th>\n",
              "      <td>rap boss arrested over drug find rap mogul mar...</td>\n",
              "      <td>amnesty chief laments war failure the lack of ...</td>\n",
              "      <td>0.165480</td>\n",
              "    </tr>\n",
              "    <tr>\n",
              "      <th>2</th>\n",
              "      <td>player burn-out worries robinson england coach...</td>\n",
              "      <td>hanks greeted at wintry premiere hollywood sta...</td>\n",
              "      <td>0.077801</td>\n",
              "    </tr>\n",
              "    <tr>\n",
              "      <th>3</th>\n",
              "      <td>hearts of oak 3-2 cotonsport hearts of oak set...</td>\n",
              "      <td>redford s vision of sundance despite sporting ...</td>\n",
              "      <td>0.000900</td>\n",
              "    </tr>\n",
              "    <tr>\n",
              "      <th>4</th>\n",
              "      <td>sir paul rocks super bowl crowds sir paul mcca...</td>\n",
              "      <td>mauresmo opens with victory in la amelie maure...</td>\n",
              "      <td>0.088690</td>\n",
              "    </tr>\n",
              "  </tbody>\n",
              "</table>\n",
              "</div>\n",
              "      <button class=\"colab-df-convert\" onclick=\"convertToInteractive('df-84b01a02-546e-4042-9c54-bd44a006988b')\"\n",
              "              title=\"Convert this dataframe to an interactive table.\"\n",
              "              style=\"display:none;\">\n",
              "\n",
              "  <svg xmlns=\"http://www.w3.org/2000/svg\" height=\"24px\"viewBox=\"0 0 24 24\"\n",
              "       width=\"24px\">\n",
              "    <path d=\"M0 0h24v24H0V0z\" fill=\"none\"/>\n",
              "    <path d=\"M18.56 5.44l.94 2.06.94-2.06 2.06-.94-2.06-.94-.94-2.06-.94 2.06-2.06.94zm-11 1L8.5 8.5l.94-2.06 2.06-.94-2.06-.94L8.5 2.5l-.94 2.06-2.06.94zm10 10l.94 2.06.94-2.06 2.06-.94-2.06-.94-.94-2.06-.94 2.06-2.06.94z\"/><path d=\"M17.41 7.96l-1.37-1.37c-.4-.4-.92-.59-1.43-.59-.52 0-1.04.2-1.43.59L10.3 9.45l-7.72 7.72c-.78.78-.78 2.05 0 2.83L4 21.41c.39.39.9.59 1.41.59.51 0 1.02-.2 1.41-.59l7.78-7.78 2.81-2.81c.8-.78.8-2.07 0-2.86zM5.41 20L4 18.59l7.72-7.72 1.47 1.35L5.41 20z\"/>\n",
              "  </svg>\n",
              "      </button>\n",
              "\n",
              "\n",
              "\n",
              "    <div id=\"df-9c2be3cb-2d2a-48c2-b84e-a4db37b3d571\">\n",
              "      <button class=\"colab-df-quickchart\" onclick=\"quickchart('df-9c2be3cb-2d2a-48c2-b84e-a4db37b3d571')\"\n",
              "              title=\"Suggest charts.\"\n",
              "              style=\"display:none;\">\n",
              "\n",
              "<svg xmlns=\"http://www.w3.org/2000/svg\" height=\"24px\"viewBox=\"0 0 24 24\"\n",
              "     width=\"24px\">\n",
              "    <g>\n",
              "        <path d=\"M19 3H5c-1.1 0-2 .9-2 2v14c0 1.1.9 2 2 2h14c1.1 0 2-.9 2-2V5c0-1.1-.9-2-2-2zM9 17H7v-7h2v7zm4 0h-2V7h2v10zm4 0h-2v-4h2v4z\"/>\n",
              "    </g>\n",
              "</svg>\n",
              "      </button>\n",
              "    </div>\n",
              "\n",
              "<style>\n",
              "  .colab-df-quickchart {\n",
              "    background-color: #E8F0FE;\n",
              "    border: none;\n",
              "    border-radius: 50%;\n",
              "    cursor: pointer;\n",
              "    display: none;\n",
              "    fill: #1967D2;\n",
              "    height: 32px;\n",
              "    padding: 0 0 0 0;\n",
              "    width: 32px;\n",
              "  }\n",
              "\n",
              "  .colab-df-quickchart:hover {\n",
              "    background-color: #E2EBFA;\n",
              "    box-shadow: 0px 1px 2px rgba(60, 64, 67, 0.3), 0px 1px 3px 1px rgba(60, 64, 67, 0.15);\n",
              "    fill: #174EA6;\n",
              "  }\n",
              "\n",
              "  [theme=dark] .colab-df-quickchart {\n",
              "    background-color: #3B4455;\n",
              "    fill: #D2E3FC;\n",
              "  }\n",
              "\n",
              "  [theme=dark] .colab-df-quickchart:hover {\n",
              "    background-color: #434B5C;\n",
              "    box-shadow: 0px 1px 3px 1px rgba(0, 0, 0, 0.15);\n",
              "    filter: drop-shadow(0px 1px 2px rgba(0, 0, 0, 0.3));\n",
              "    fill: #FFFFFF;\n",
              "  }\n",
              "</style>\n",
              "\n",
              "    <script>\n",
              "      async function quickchart(key) {\n",
              "        const containerElement = document.querySelector('#' + key);\n",
              "        const charts = await google.colab.kernel.invokeFunction(\n",
              "            'suggestCharts', [key], {});\n",
              "      }\n",
              "    </script>\n",
              "\n",
              "      <script>\n",
              "\n",
              "function displayQuickchartButton(domScope) {\n",
              "  let quickchartButtonEl =\n",
              "    domScope.querySelector('#df-9c2be3cb-2d2a-48c2-b84e-a4db37b3d571 button.colab-df-quickchart');\n",
              "  quickchartButtonEl.style.display =\n",
              "    google.colab.kernel.accessAllowed ? 'block' : 'none';\n",
              "}\n",
              "\n",
              "        displayQuickchartButton(document);\n",
              "      </script>\n",
              "      <style>\n",
              "    .colab-df-container {\n",
              "      display:flex;\n",
              "      flex-wrap:wrap;\n",
              "      gap: 12px;\n",
              "    }\n",
              "\n",
              "    .colab-df-convert {\n",
              "      background-color: #E8F0FE;\n",
              "      border: none;\n",
              "      border-radius: 50%;\n",
              "      cursor: pointer;\n",
              "      display: none;\n",
              "      fill: #1967D2;\n",
              "      height: 32px;\n",
              "      padding: 0 0 0 0;\n",
              "      width: 32px;\n",
              "    }\n",
              "\n",
              "    .colab-df-convert:hover {\n",
              "      background-color: #E2EBFA;\n",
              "      box-shadow: 0px 1px 2px rgba(60, 64, 67, 0.3), 0px 1px 3px 1px rgba(60, 64, 67, 0.15);\n",
              "      fill: #174EA6;\n",
              "    }\n",
              "\n",
              "    [theme=dark] .colab-df-convert {\n",
              "      background-color: #3B4455;\n",
              "      fill: #D2E3FC;\n",
              "    }\n",
              "\n",
              "    [theme=dark] .colab-df-convert:hover {\n",
              "      background-color: #434B5C;\n",
              "      box-shadow: 0px 1px 3px 1px rgba(0, 0, 0, 0.15);\n",
              "      filter: drop-shadow(0px 1px 2px rgba(0, 0, 0, 0.3));\n",
              "      fill: #FFFFFF;\n",
              "    }\n",
              "  </style>\n",
              "\n",
              "      <script>\n",
              "        const buttonEl =\n",
              "          document.querySelector('#df-84b01a02-546e-4042-9c54-bd44a006988b button.colab-df-convert');\n",
              "        buttonEl.style.display =\n",
              "          google.colab.kernel.accessAllowed ? 'block' : 'none';\n",
              "\n",
              "        async function convertToInteractive(key) {\n",
              "          const element = document.querySelector('#df-84b01a02-546e-4042-9c54-bd44a006988b');\n",
              "          const dataTable =\n",
              "            await google.colab.kernel.invokeFunction('convertToInteractive',\n",
              "                                                     [key], {});\n",
              "          if (!dataTable) return;\n",
              "\n",
              "          const docLinkHtml = 'Like what you see? Visit the ' +\n",
              "            '<a target=\"_blank\" href=https://colab.research.google.com/notebooks/data_table.ipynb>data table notebook</a>'\n",
              "            + ' to learn more about interactive tables.';\n",
              "          element.innerHTML = '';\n",
              "          dataTable['output_type'] = 'display_data';\n",
              "          await google.colab.output.renderOutput(dataTable, element);\n",
              "          const docLink = document.createElement('div');\n",
              "          docLink.innerHTML = docLinkHtml;\n",
              "          element.appendChild(docLink);\n",
              "        }\n",
              "      </script>\n",
              "    </div>\n",
              "  </div>\n"
            ]
          },
          "metadata": {},
          "execution_count": 3
        }
      ]
    },
    {
      "cell_type": "code",
      "source": [
        "df_=df"
      ],
      "metadata": {
        "id": "SKb2IfLMQZew"
      },
      "execution_count": null,
      "outputs": []
    },
    {
      "cell_type": "code",
      "source": [
        "import string,time\n",
        "string.punctuation\n"
      ],
      "metadata": {
        "colab": {
          "base_uri": "https://localhost:8080/",
          "height": 36
        },
        "id": "tIhiyoogQpgd",
        "outputId": "5d6c6c78-1f7a-419c-c94c-aecc5985b798"
      },
      "execution_count": null,
      "outputs": [
        {
          "output_type": "execute_result",
          "data": {
            "text/plain": [
              "'!\"#$%&\\'()*+,-./:;<=>?@[\\\\]^_`{|}~'"
            ],
            "application/vnd.google.colaboratory.intrinsic+json": {
              "type": "string"
            }
          },
          "metadata": {},
          "execution_count": 5
        }
      ]
    },
    {
      "cell_type": "code",
      "source": [
        "exclude=string.punctuation\n",
        "def stripunc(data):\n",
        "    for char in exclude:\n",
        "        data = data.replace(char,'')\n",
        "    return data"
      ],
      "metadata": {
        "id": "ZR0tJ6IAQr0m"
      },
      "execution_count": null,
      "outputs": []
    },
    {
      "cell_type": "code",
      "source": [
        "import nltk\n",
        "nltk.download('stopwords')\n",
        "from nltk.corpus import stopwords\n",
        "from nltk.stem.snowball import SnowballStemmer\n",
        "from nltk.tokenize import word_tokenize\n",
        "\n",
        "stop_words = set(stopwords.words('english'))\n",
        "stemmer = SnowballStemmer(\"english\")\n",
        "\n",
        "from tqdm import tqdm"
      ],
      "metadata": {
        "colab": {
          "base_uri": "https://localhost:8080/"
        },
        "id": "OxQVMAnUQ1kD",
        "outputId": "4cd4e138-1754-42f2-aafa-ecc54d533c9d"
      },
      "execution_count": null,
      "outputs": [
        {
          "output_type": "stream",
          "name": "stderr",
          "text": [
            "[nltk_data] Downloading package stopwords to /root/nltk_data...\n",
            "[nltk_data]   Unzipping corpora/stopwords.zip.\n"
          ]
        }
      ]
    },
    {
      "cell_type": "code",
      "source": [
        "import re\n",
        "\n",
        "def decontracted(phrase):\n",
        "    # specific\n",
        "    phrase = re.sub(r\"won\\'t\", \"will not\", phrase)\n",
        "    phrase = re.sub(r\"can\\'t\", \"can not\", phrase)\n",
        "\n",
        "    # general\n",
        "    phrase = re.sub(r\"n\\'t\", \" not\", phrase)\n",
        "    phrase = re.sub(r\"\\'re\", \" are\", phrase)\n",
        "    phrase = re.sub(r\"\\'s\", \" is\", phrase)\n",
        "    phrase = re.sub(r\"\\'d\", \" would\", phrase)\n",
        "    phrase = re.sub(r\"\\'ll\", \" will\", phrase)\n",
        "    phrase = re.sub(r\"\\'t\", \" not\", phrase)\n",
        "    phrase = re.sub(r\"\\'ve\", \" have\", phrase)\n",
        "    phrase = re.sub(r\"\\'m\", \" am\", phrase)\n",
        "    return phrase"
      ],
      "metadata": {
        "id": "QbUVfRGVRi6F"
      },
      "execution_count": null,
      "outputs": []
    },
    {
      "cell_type": "code",
      "source": [
        "def compute(sent):\n",
        "\n",
        "    sent = decontracted(sent)\n",
        "    sent = stripunc(sent)\n",
        "\n",
        "    words=word_tokenize(str(sent.lower()))\n",
        "\n",
        "    #Removing all single letter and and stopwords from question\n",
        "    sent1=' '.join(str(stemmer.stem(j)) for j in words if j not in stop_words and (len(j)!=1))\n",
        "    sent2=' '.join(str(j) for j in words if j not in stop_words and (len(j)!=1))\n",
        "    return sent1, sent2"
      ],
      "metadata": {
        "id": "oICZBlITRKQf"
      },
      "execution_count": null,
      "outputs": []
    },
    {
      "cell_type": "code",
      "source": [
        "train_data=df"
      ],
      "metadata": {
        "id": "8DKV9x1nRxxy"
      },
      "execution_count": null,
      "outputs": []
    },
    {
      "cell_type": "code",
      "source": [
        "train_data.shape"
      ],
      "metadata": {
        "colab": {
          "base_uri": "https://localhost:8080/"
        },
        "id": "GzhW5BUVR2T-",
        "outputId": "e784908b-fc12-4356-fd44-a58665933bf2"
      },
      "execution_count": null,
      "outputs": [
        {
          "output_type": "execute_result",
          "data": {
            "text/plain": [
              "(3000, 3)"
            ]
          },
          "metadata": {},
          "execution_count": 11
        }
      ]
    },
    {
      "cell_type": "code",
      "source": [
        "nltk.download('punkt')"
      ],
      "metadata": {
        "colab": {
          "base_uri": "https://localhost:8080/"
        },
        "id": "DqcgMit4Scpn",
        "outputId": "e0c24408-ea0b-4f97-a7e6-beb1e393f074"
      },
      "execution_count": null,
      "outputs": [
        {
          "output_type": "stream",
          "name": "stderr",
          "text": [
            "[nltk_data] Downloading package punkt to /root/nltk_data...\n",
            "[nltk_data]   Unzipping tokenizers/punkt.zip.\n"
          ]
        },
        {
          "output_type": "execute_result",
          "data": {
            "text/plain": [
              "True"
            ]
          },
          "metadata": {},
          "execution_count": 12
        }
      ]
    },
    {
      "cell_type": "code",
      "source": [
        "clean_stemmed_text1 = []\n",
        "clean_stemmed_text2 = []\n",
        "clean_text1 = []\n",
        "clean_text2 = []\n",
        "combined_stemmed_text = []\n",
        "for _, row in tqdm(train_data.iterrows()):\n",
        "    cstext1, ctext1 = compute(row['text1'])\n",
        "    cstext2, ctext2 = compute(row['text2'])\n",
        "    clean_stemmed_text1.append(cstext1)\n",
        "    clean_text1.append(ctext1)\n",
        "    clean_stemmed_text2.append(cstext2)\n",
        "    clean_text2.append(ctext2)\n",
        "    combined_stemmed_text.append(cstext1+\" \"+cstext2)"
      ],
      "metadata": {
        "colab": {
          "base_uri": "https://localhost:8080/"
        },
        "id": "2q1kiNWSRmL2",
        "outputId": "847d4b6b-d7f8-4574-b0e3-6dadde76800a"
      },
      "execution_count": null,
      "outputs": [
        {
          "output_type": "stream",
          "name": "stderr",
          "text": [
            "3000it [00:35, 83.98it/s] \n"
          ]
        }
      ]
    },
    {
      "cell_type": "code",
      "source": [
        "print(len(clean_stemmed_text1))\n",
        "print(len(clean_stemmed_text2))\n",
        "print(len(clean_text1))\n",
        "print(len(clean_text2))\n",
        "print(len(combined_stemmed_text))"
      ],
      "metadata": {
        "colab": {
          "base_uri": "https://localhost:8080/"
        },
        "id": "rpSOHcZWPR1F",
        "outputId": "bb71ff06-a945-43b5-f547-22ba4877540a"
      },
      "execution_count": null,
      "outputs": [
        {
          "output_type": "stream",
          "name": "stdout",
          "text": [
            "3000\n",
            "3000\n",
            "3000\n",
            "3000\n",
            "3000\n"
          ]
        }
      ]
    },
    {
      "cell_type": "code",
      "source": [
        "train_data['clean_stemmed_text1'] = clean_stemmed_text1\n",
        "train_data['clean_stemmed_text2'] = clean_stemmed_text2\n",
        "train_data['clean_text1'] = clean_text1\n",
        "train_data['clean_text2'] = clean_text2\n",
        "train_data['combined_stemmed_text'] = combined_stemmed_text"
      ],
      "metadata": {
        "id": "XwyRST7lP79r"
      },
      "execution_count": null,
      "outputs": []
    },
    {
      "cell_type": "code",
      "source": [
        "train_data.head()"
      ],
      "metadata": {
        "colab": {
          "base_uri": "https://localhost:8080/",
          "height": 562
        },
        "id": "4RCCoEloSd5X",
        "outputId": "c5d7d0eb-ee46-422a-b9ac-3e1ee2555a91"
      },
      "execution_count": null,
      "outputs": [
        {
          "output_type": "execute_result",
          "data": {
            "text/plain": [
              "                                               text1  \\\n",
              "0  broadband challenges tv viewing the number of ...   \n",
              "1  rap boss arrested over drug find rap mogul mar...   \n",
              "2  player burn-out worries robinson england coach...   \n",
              "3  hearts of oak 3-2 cotonsport hearts of oak set...   \n",
              "4  sir paul rocks super bowl crowds sir paul mcca...   \n",
              "\n",
              "                                               text2  similarity  \\\n",
              "0  gardener wins double in glasgow britain s jaso...    0.086190   \n",
              "1  amnesty chief laments war failure the lack of ...    0.165480   \n",
              "2  hanks greeted at wintry premiere hollywood sta...    0.077801   \n",
              "3  redford s vision of sundance despite sporting ...    0.000900   \n",
              "4  mauresmo opens with victory in la amelie maure...    0.088690   \n",
              "\n",
              "                                 clean_stemmed_text1  \\\n",
              "0  broadband challeng tv view number european bro...   \n",
              "1  rap boss arrest drug find rap mogul marion sug...   \n",
              "2  player burnout worri robinson england coach an...   \n",
              "3  heart oak 32 cotonsport heart oak set ghanaian...   \n",
              "4  sir paul rock super bowl crowd sir paul mccart...   \n",
              "\n",
              "                                 clean_stemmed_text2  \\\n",
              "0  garden win doubl glasgow britain jason garden ...   \n",
              "1  amnesti chief lament war failur lack public ou...   \n",
              "2  hank greet wintri premier hollywood star tom h...   \n",
              "3  redford vision sundanc despit sport corduroy c...   \n",
              "4  mauresmo open victori la ameli mauresmo maria ...   \n",
              "\n",
              "                                         clean_text1  \\\n",
              "0  broadband challenges tv viewing number europea...   \n",
              "1  rap boss arrested drug find rap mogul marion s...   \n",
              "2  player burnout worries robinson england coach ...   \n",
              "3  hearts oak 32 cotonsport hearts oak set ghanai...   \n",
              "4  sir paul rocks super bowl crowds sir paul mcca...   \n",
              "\n",
              "                                         clean_text2  \\\n",
              "0  gardener wins double glasgow britain jason gar...   \n",
              "1  amnesty chief laments war failure lack public ...   \n",
              "2  hanks greeted wintry premiere hollywood star t...   \n",
              "3  redford vision sundance despite sporting cordu...   \n",
              "4  mauresmo opens victory la amelie mauresmo mari...   \n",
              "\n",
              "                               combined_stemmed_text  \n",
              "0  broadband challeng tv view number european bro...  \n",
              "1  rap boss arrest drug find rap mogul marion sug...  \n",
              "2  player burnout worri robinson england coach an...  \n",
              "3  heart oak 32 cotonsport heart oak set ghanaian...  \n",
              "4  sir paul rock super bowl crowd sir paul mccart...  "
            ],
            "text/html": [
              "\n",
              "\n",
              "  <div id=\"df-f899d2ac-fbe7-4389-ac47-85851606272b\">\n",
              "    <div class=\"colab-df-container\">\n",
              "      <div>\n",
              "<style scoped>\n",
              "    .dataframe tbody tr th:only-of-type {\n",
              "        vertical-align: middle;\n",
              "    }\n",
              "\n",
              "    .dataframe tbody tr th {\n",
              "        vertical-align: top;\n",
              "    }\n",
              "\n",
              "    .dataframe thead th {\n",
              "        text-align: right;\n",
              "    }\n",
              "</style>\n",
              "<table border=\"1\" class=\"dataframe\">\n",
              "  <thead>\n",
              "    <tr style=\"text-align: right;\">\n",
              "      <th></th>\n",
              "      <th>text1</th>\n",
              "      <th>text2</th>\n",
              "      <th>similarity</th>\n",
              "      <th>clean_stemmed_text1</th>\n",
              "      <th>clean_stemmed_text2</th>\n",
              "      <th>clean_text1</th>\n",
              "      <th>clean_text2</th>\n",
              "      <th>combined_stemmed_text</th>\n",
              "    </tr>\n",
              "  </thead>\n",
              "  <tbody>\n",
              "    <tr>\n",
              "      <th>0</th>\n",
              "      <td>broadband challenges tv viewing the number of ...</td>\n",
              "      <td>gardener wins double in glasgow britain s jaso...</td>\n",
              "      <td>0.086190</td>\n",
              "      <td>broadband challeng tv view number european bro...</td>\n",
              "      <td>garden win doubl glasgow britain jason garden ...</td>\n",
              "      <td>broadband challenges tv viewing number europea...</td>\n",
              "      <td>gardener wins double glasgow britain jason gar...</td>\n",
              "      <td>broadband challeng tv view number european bro...</td>\n",
              "    </tr>\n",
              "    <tr>\n",
              "      <th>1</th>\n",
              "      <td>rap boss arrested over drug find rap mogul mar...</td>\n",
              "      <td>amnesty chief laments war failure the lack of ...</td>\n",
              "      <td>0.165480</td>\n",
              "      <td>rap boss arrest drug find rap mogul marion sug...</td>\n",
              "      <td>amnesti chief lament war failur lack public ou...</td>\n",
              "      <td>rap boss arrested drug find rap mogul marion s...</td>\n",
              "      <td>amnesty chief laments war failure lack public ...</td>\n",
              "      <td>rap boss arrest drug find rap mogul marion sug...</td>\n",
              "    </tr>\n",
              "    <tr>\n",
              "      <th>2</th>\n",
              "      <td>player burn-out worries robinson england coach...</td>\n",
              "      <td>hanks greeted at wintry premiere hollywood sta...</td>\n",
              "      <td>0.077801</td>\n",
              "      <td>player burnout worri robinson england coach an...</td>\n",
              "      <td>hank greet wintri premier hollywood star tom h...</td>\n",
              "      <td>player burnout worries robinson england coach ...</td>\n",
              "      <td>hanks greeted wintry premiere hollywood star t...</td>\n",
              "      <td>player burnout worri robinson england coach an...</td>\n",
              "    </tr>\n",
              "    <tr>\n",
              "      <th>3</th>\n",
              "      <td>hearts of oak 3-2 cotonsport hearts of oak set...</td>\n",
              "      <td>redford s vision of sundance despite sporting ...</td>\n",
              "      <td>0.000900</td>\n",
              "      <td>heart oak 32 cotonsport heart oak set ghanaian...</td>\n",
              "      <td>redford vision sundanc despit sport corduroy c...</td>\n",
              "      <td>hearts oak 32 cotonsport hearts oak set ghanai...</td>\n",
              "      <td>redford vision sundance despite sporting cordu...</td>\n",
              "      <td>heart oak 32 cotonsport heart oak set ghanaian...</td>\n",
              "    </tr>\n",
              "    <tr>\n",
              "      <th>4</th>\n",
              "      <td>sir paul rocks super bowl crowds sir paul mcca...</td>\n",
              "      <td>mauresmo opens with victory in la amelie maure...</td>\n",
              "      <td>0.088690</td>\n",
              "      <td>sir paul rock super bowl crowd sir paul mccart...</td>\n",
              "      <td>mauresmo open victori la ameli mauresmo maria ...</td>\n",
              "      <td>sir paul rocks super bowl crowds sir paul mcca...</td>\n",
              "      <td>mauresmo opens victory la amelie mauresmo mari...</td>\n",
              "      <td>sir paul rock super bowl crowd sir paul mccart...</td>\n",
              "    </tr>\n",
              "  </tbody>\n",
              "</table>\n",
              "</div>\n",
              "      <button class=\"colab-df-convert\" onclick=\"convertToInteractive('df-f899d2ac-fbe7-4389-ac47-85851606272b')\"\n",
              "              title=\"Convert this dataframe to an interactive table.\"\n",
              "              style=\"display:none;\">\n",
              "\n",
              "  <svg xmlns=\"http://www.w3.org/2000/svg\" height=\"24px\"viewBox=\"0 0 24 24\"\n",
              "       width=\"24px\">\n",
              "    <path d=\"M0 0h24v24H0V0z\" fill=\"none\"/>\n",
              "    <path d=\"M18.56 5.44l.94 2.06.94-2.06 2.06-.94-2.06-.94-.94-2.06-.94 2.06-2.06.94zm-11 1L8.5 8.5l.94-2.06 2.06-.94-2.06-.94L8.5 2.5l-.94 2.06-2.06.94zm10 10l.94 2.06.94-2.06 2.06-.94-2.06-.94-.94-2.06-.94 2.06-2.06.94z\"/><path d=\"M17.41 7.96l-1.37-1.37c-.4-.4-.92-.59-1.43-.59-.52 0-1.04.2-1.43.59L10.3 9.45l-7.72 7.72c-.78.78-.78 2.05 0 2.83L4 21.41c.39.39.9.59 1.41.59.51 0 1.02-.2 1.41-.59l7.78-7.78 2.81-2.81c.8-.78.8-2.07 0-2.86zM5.41 20L4 18.59l7.72-7.72 1.47 1.35L5.41 20z\"/>\n",
              "  </svg>\n",
              "      </button>\n",
              "\n",
              "\n",
              "\n",
              "    <div id=\"df-31a9cfad-a087-49ce-9a91-8569784edc62\">\n",
              "      <button class=\"colab-df-quickchart\" onclick=\"quickchart('df-31a9cfad-a087-49ce-9a91-8569784edc62')\"\n",
              "              title=\"Suggest charts.\"\n",
              "              style=\"display:none;\">\n",
              "\n",
              "<svg xmlns=\"http://www.w3.org/2000/svg\" height=\"24px\"viewBox=\"0 0 24 24\"\n",
              "     width=\"24px\">\n",
              "    <g>\n",
              "        <path d=\"M19 3H5c-1.1 0-2 .9-2 2v14c0 1.1.9 2 2 2h14c1.1 0 2-.9 2-2V5c0-1.1-.9-2-2-2zM9 17H7v-7h2v7zm4 0h-2V7h2v10zm4 0h-2v-4h2v4z\"/>\n",
              "    </g>\n",
              "</svg>\n",
              "      </button>\n",
              "    </div>\n",
              "\n",
              "<style>\n",
              "  .colab-df-quickchart {\n",
              "    background-color: #E8F0FE;\n",
              "    border: none;\n",
              "    border-radius: 50%;\n",
              "    cursor: pointer;\n",
              "    display: none;\n",
              "    fill: #1967D2;\n",
              "    height: 32px;\n",
              "    padding: 0 0 0 0;\n",
              "    width: 32px;\n",
              "  }\n",
              "\n",
              "  .colab-df-quickchart:hover {\n",
              "    background-color: #E2EBFA;\n",
              "    box-shadow: 0px 1px 2px rgba(60, 64, 67, 0.3), 0px 1px 3px 1px rgba(60, 64, 67, 0.15);\n",
              "    fill: #174EA6;\n",
              "  }\n",
              "\n",
              "  [theme=dark] .colab-df-quickchart {\n",
              "    background-color: #3B4455;\n",
              "    fill: #D2E3FC;\n",
              "  }\n",
              "\n",
              "  [theme=dark] .colab-df-quickchart:hover {\n",
              "    background-color: #434B5C;\n",
              "    box-shadow: 0px 1px 3px 1px rgba(0, 0, 0, 0.15);\n",
              "    filter: drop-shadow(0px 1px 2px rgba(0, 0, 0, 0.3));\n",
              "    fill: #FFFFFF;\n",
              "  }\n",
              "</style>\n",
              "\n",
              "    <script>\n",
              "      async function quickchart(key) {\n",
              "        const containerElement = document.querySelector('#' + key);\n",
              "        const charts = await google.colab.kernel.invokeFunction(\n",
              "            'suggestCharts', [key], {});\n",
              "      }\n",
              "    </script>\n",
              "\n",
              "      <script>\n",
              "\n",
              "function displayQuickchartButton(domScope) {\n",
              "  let quickchartButtonEl =\n",
              "    domScope.querySelector('#df-31a9cfad-a087-49ce-9a91-8569784edc62 button.colab-df-quickchart');\n",
              "  quickchartButtonEl.style.display =\n",
              "    google.colab.kernel.accessAllowed ? 'block' : 'none';\n",
              "}\n",
              "\n",
              "        displayQuickchartButton(document);\n",
              "      </script>\n",
              "      <style>\n",
              "    .colab-df-container {\n",
              "      display:flex;\n",
              "      flex-wrap:wrap;\n",
              "      gap: 12px;\n",
              "    }\n",
              "\n",
              "    .colab-df-convert {\n",
              "      background-color: #E8F0FE;\n",
              "      border: none;\n",
              "      border-radius: 50%;\n",
              "      cursor: pointer;\n",
              "      display: none;\n",
              "      fill: #1967D2;\n",
              "      height: 32px;\n",
              "      padding: 0 0 0 0;\n",
              "      width: 32px;\n",
              "    }\n",
              "\n",
              "    .colab-df-convert:hover {\n",
              "      background-color: #E2EBFA;\n",
              "      box-shadow: 0px 1px 2px rgba(60, 64, 67, 0.3), 0px 1px 3px 1px rgba(60, 64, 67, 0.15);\n",
              "      fill: #174EA6;\n",
              "    }\n",
              "\n",
              "    [theme=dark] .colab-df-convert {\n",
              "      background-color: #3B4455;\n",
              "      fill: #D2E3FC;\n",
              "    }\n",
              "\n",
              "    [theme=dark] .colab-df-convert:hover {\n",
              "      background-color: #434B5C;\n",
              "      box-shadow: 0px 1px 3px 1px rgba(0, 0, 0, 0.15);\n",
              "      filter: drop-shadow(0px 1px 2px rgba(0, 0, 0, 0.3));\n",
              "      fill: #FFFFFF;\n",
              "    }\n",
              "  </style>\n",
              "\n",
              "      <script>\n",
              "        const buttonEl =\n",
              "          document.querySelector('#df-f899d2ac-fbe7-4389-ac47-85851606272b button.colab-df-convert');\n",
              "        buttonEl.style.display =\n",
              "          google.colab.kernel.accessAllowed ? 'block' : 'none';\n",
              "\n",
              "        async function convertToInteractive(key) {\n",
              "          const element = document.querySelector('#df-f899d2ac-fbe7-4389-ac47-85851606272b');\n",
              "          const dataTable =\n",
              "            await google.colab.kernel.invokeFunction('convertToInteractive',\n",
              "                                                     [key], {});\n",
              "          if (!dataTable) return;\n",
              "\n",
              "          const docLinkHtml = 'Like what you see? Visit the ' +\n",
              "            '<a target=\"_blank\" href=https://colab.research.google.com/notebooks/data_table.ipynb>data table notebook</a>'\n",
              "            + ' to learn more about interactive tables.';\n",
              "          element.innerHTML = '';\n",
              "          dataTable['output_type'] = 'display_data';\n",
              "          await google.colab.output.renderOutput(dataTable, element);\n",
              "          const docLink = document.createElement('div');\n",
              "          docLink.innerHTML = docLinkHtml;\n",
              "          element.appendChild(docLink);\n",
              "        }\n",
              "      </script>\n",
              "    </div>\n",
              "  </div>\n"
            ]
          },
          "metadata": {},
          "execution_count": 16
        }
      ]
    },
    {
      "cell_type": "code",
      "source": [
        "from sklearn.model_selection import train_test_split"
      ],
      "metadata": {
        "id": "WNJyKSvUsPIj"
      },
      "execution_count": null,
      "outputs": []
    },
    {
      "cell_type": "code",
      "source": [
        "X_temp, X_test, y_temp, y_test = train_test_split(train_data[['clean_text1', 'clean_text2']], train_data['similarity'], test_size=0.2, random_state=42)"
      ],
      "metadata": {
        "id": "uKUZcS9RsQSw"
      },
      "execution_count": null,
      "outputs": []
    },
    {
      "cell_type": "code",
      "source": [
        "X_train, X_val, y_train, y_val = train_test_split(X_temp, y_temp, test_size=0.2, random_state=42)\n",
        "X_train.head()"
      ],
      "metadata": {
        "colab": {
          "base_uri": "https://localhost:8080/",
          "height": 206
        },
        "id": "nt4y1XKnSx9P",
        "outputId": "a10aa215-6084-44c8-d4c5-9ff0ac82c4ce"
      },
      "execution_count": null,
      "outputs": [
        {
          "output_type": "execute_result",
          "data": {
            "text/plain": [
              "                                            clean_text1  \\\n",
              "1221  tindall wants second opinion england centre mi...   \n",
              "1651  antispam screensaver scrapped contentious camp...   \n",
              "1460  russia gets investment blessing soaring oil sa...   \n",
              "1081  celtic make late bid bellamy newcastle striker...   \n",
              "1405  vera drake scoops film award oscar hopefuls mi...   \n",
              "\n",
              "                                            clean_text2  \n",
              "1221  england 1718 france england suffered eighth de...  \n",
              "1651  gritty return prince persia still basking rela...  \n",
              "1460  landmark movies 2004 hailed us film profession...  \n",
              "1081  profits stall china lenovo profits chinese com...  \n",
              "1405  firefox browser takes microsoft microsoft inte...  "
            ],
            "text/html": [
              "\n",
              "\n",
              "  <div id=\"df-b56dce58-8b51-4e34-9c8c-0b3b4b997416\">\n",
              "    <div class=\"colab-df-container\">\n",
              "      <div>\n",
              "<style scoped>\n",
              "    .dataframe tbody tr th:only-of-type {\n",
              "        vertical-align: middle;\n",
              "    }\n",
              "\n",
              "    .dataframe tbody tr th {\n",
              "        vertical-align: top;\n",
              "    }\n",
              "\n",
              "    .dataframe thead th {\n",
              "        text-align: right;\n",
              "    }\n",
              "</style>\n",
              "<table border=\"1\" class=\"dataframe\">\n",
              "  <thead>\n",
              "    <tr style=\"text-align: right;\">\n",
              "      <th></th>\n",
              "      <th>clean_text1</th>\n",
              "      <th>clean_text2</th>\n",
              "    </tr>\n",
              "  </thead>\n",
              "  <tbody>\n",
              "    <tr>\n",
              "      <th>1221</th>\n",
              "      <td>tindall wants second opinion england centre mi...</td>\n",
              "      <td>england 1718 france england suffered eighth de...</td>\n",
              "    </tr>\n",
              "    <tr>\n",
              "      <th>1651</th>\n",
              "      <td>antispam screensaver scrapped contentious camp...</td>\n",
              "      <td>gritty return prince persia still basking rela...</td>\n",
              "    </tr>\n",
              "    <tr>\n",
              "      <th>1460</th>\n",
              "      <td>russia gets investment blessing soaring oil sa...</td>\n",
              "      <td>landmark movies 2004 hailed us film profession...</td>\n",
              "    </tr>\n",
              "    <tr>\n",
              "      <th>1081</th>\n",
              "      <td>celtic make late bid bellamy newcastle striker...</td>\n",
              "      <td>profits stall china lenovo profits chinese com...</td>\n",
              "    </tr>\n",
              "    <tr>\n",
              "      <th>1405</th>\n",
              "      <td>vera drake scoops film award oscar hopefuls mi...</td>\n",
              "      <td>firefox browser takes microsoft microsoft inte...</td>\n",
              "    </tr>\n",
              "  </tbody>\n",
              "</table>\n",
              "</div>\n",
              "      <button class=\"colab-df-convert\" onclick=\"convertToInteractive('df-b56dce58-8b51-4e34-9c8c-0b3b4b997416')\"\n",
              "              title=\"Convert this dataframe to an interactive table.\"\n",
              "              style=\"display:none;\">\n",
              "\n",
              "  <svg xmlns=\"http://www.w3.org/2000/svg\" height=\"24px\"viewBox=\"0 0 24 24\"\n",
              "       width=\"24px\">\n",
              "    <path d=\"M0 0h24v24H0V0z\" fill=\"none\"/>\n",
              "    <path d=\"M18.56 5.44l.94 2.06.94-2.06 2.06-.94-2.06-.94-.94-2.06-.94 2.06-2.06.94zm-11 1L8.5 8.5l.94-2.06 2.06-.94-2.06-.94L8.5 2.5l-.94 2.06-2.06.94zm10 10l.94 2.06.94-2.06 2.06-.94-2.06-.94-.94-2.06-.94 2.06-2.06.94z\"/><path d=\"M17.41 7.96l-1.37-1.37c-.4-.4-.92-.59-1.43-.59-.52 0-1.04.2-1.43.59L10.3 9.45l-7.72 7.72c-.78.78-.78 2.05 0 2.83L4 21.41c.39.39.9.59 1.41.59.51 0 1.02-.2 1.41-.59l7.78-7.78 2.81-2.81c.8-.78.8-2.07 0-2.86zM5.41 20L4 18.59l7.72-7.72 1.47 1.35L5.41 20z\"/>\n",
              "  </svg>\n",
              "      </button>\n",
              "\n",
              "\n",
              "\n",
              "    <div id=\"df-ef885962-f105-4dc7-b41e-0f30e6668dde\">\n",
              "      <button class=\"colab-df-quickchart\" onclick=\"quickchart('df-ef885962-f105-4dc7-b41e-0f30e6668dde')\"\n",
              "              title=\"Suggest charts.\"\n",
              "              style=\"display:none;\">\n",
              "\n",
              "<svg xmlns=\"http://www.w3.org/2000/svg\" height=\"24px\"viewBox=\"0 0 24 24\"\n",
              "     width=\"24px\">\n",
              "    <g>\n",
              "        <path d=\"M19 3H5c-1.1 0-2 .9-2 2v14c0 1.1.9 2 2 2h14c1.1 0 2-.9 2-2V5c0-1.1-.9-2-2-2zM9 17H7v-7h2v7zm4 0h-2V7h2v10zm4 0h-2v-4h2v4z\"/>\n",
              "    </g>\n",
              "</svg>\n",
              "      </button>\n",
              "    </div>\n",
              "\n",
              "<style>\n",
              "  .colab-df-quickchart {\n",
              "    background-color: #E8F0FE;\n",
              "    border: none;\n",
              "    border-radius: 50%;\n",
              "    cursor: pointer;\n",
              "    display: none;\n",
              "    fill: #1967D2;\n",
              "    height: 32px;\n",
              "    padding: 0 0 0 0;\n",
              "    width: 32px;\n",
              "  }\n",
              "\n",
              "  .colab-df-quickchart:hover {\n",
              "    background-color: #E2EBFA;\n",
              "    box-shadow: 0px 1px 2px rgba(60, 64, 67, 0.3), 0px 1px 3px 1px rgba(60, 64, 67, 0.15);\n",
              "    fill: #174EA6;\n",
              "  }\n",
              "\n",
              "  [theme=dark] .colab-df-quickchart {\n",
              "    background-color: #3B4455;\n",
              "    fill: #D2E3FC;\n",
              "  }\n",
              "\n",
              "  [theme=dark] .colab-df-quickchart:hover {\n",
              "    background-color: #434B5C;\n",
              "    box-shadow: 0px 1px 3px 1px rgba(0, 0, 0, 0.15);\n",
              "    filter: drop-shadow(0px 1px 2px rgba(0, 0, 0, 0.3));\n",
              "    fill: #FFFFFF;\n",
              "  }\n",
              "</style>\n",
              "\n",
              "    <script>\n",
              "      async function quickchart(key) {\n",
              "        const containerElement = document.querySelector('#' + key);\n",
              "        const charts = await google.colab.kernel.invokeFunction(\n",
              "            'suggestCharts', [key], {});\n",
              "      }\n",
              "    </script>\n",
              "\n",
              "      <script>\n",
              "\n",
              "function displayQuickchartButton(domScope) {\n",
              "  let quickchartButtonEl =\n",
              "    domScope.querySelector('#df-ef885962-f105-4dc7-b41e-0f30e6668dde button.colab-df-quickchart');\n",
              "  quickchartButtonEl.style.display =\n",
              "    google.colab.kernel.accessAllowed ? 'block' : 'none';\n",
              "}\n",
              "\n",
              "        displayQuickchartButton(document);\n",
              "      </script>\n",
              "      <style>\n",
              "    .colab-df-container {\n",
              "      display:flex;\n",
              "      flex-wrap:wrap;\n",
              "      gap: 12px;\n",
              "    }\n",
              "\n",
              "    .colab-df-convert {\n",
              "      background-color: #E8F0FE;\n",
              "      border: none;\n",
              "      border-radius: 50%;\n",
              "      cursor: pointer;\n",
              "      display: none;\n",
              "      fill: #1967D2;\n",
              "      height: 32px;\n",
              "      padding: 0 0 0 0;\n",
              "      width: 32px;\n",
              "    }\n",
              "\n",
              "    .colab-df-convert:hover {\n",
              "      background-color: #E2EBFA;\n",
              "      box-shadow: 0px 1px 2px rgba(60, 64, 67, 0.3), 0px 1px 3px 1px rgba(60, 64, 67, 0.15);\n",
              "      fill: #174EA6;\n",
              "    }\n",
              "\n",
              "    [theme=dark] .colab-df-convert {\n",
              "      background-color: #3B4455;\n",
              "      fill: #D2E3FC;\n",
              "    }\n",
              "\n",
              "    [theme=dark] .colab-df-convert:hover {\n",
              "      background-color: #434B5C;\n",
              "      box-shadow: 0px 1px 3px 1px rgba(0, 0, 0, 0.15);\n",
              "      filter: drop-shadow(0px 1px 2px rgba(0, 0, 0, 0.3));\n",
              "      fill: #FFFFFF;\n",
              "    }\n",
              "  </style>\n",
              "\n",
              "      <script>\n",
              "        const buttonEl =\n",
              "          document.querySelector('#df-b56dce58-8b51-4e34-9c8c-0b3b4b997416 button.colab-df-convert');\n",
              "        buttonEl.style.display =\n",
              "          google.colab.kernel.accessAllowed ? 'block' : 'none';\n",
              "\n",
              "        async function convertToInteractive(key) {\n",
              "          const element = document.querySelector('#df-b56dce58-8b51-4e34-9c8c-0b3b4b997416');\n",
              "          const dataTable =\n",
              "            await google.colab.kernel.invokeFunction('convertToInteractive',\n",
              "                                                     [key], {});\n",
              "          if (!dataTable) return;\n",
              "\n",
              "          const docLinkHtml = 'Like what you see? Visit the ' +\n",
              "            '<a target=\"_blank\" href=https://colab.research.google.com/notebooks/data_table.ipynb>data table notebook</a>'\n",
              "            + ' to learn more about interactive tables.';\n",
              "          element.innerHTML = '';\n",
              "          dataTable['output_type'] = 'display_data';\n",
              "          await google.colab.output.renderOutput(dataTable, element);\n",
              "          const docLink = document.createElement('div');\n",
              "          docLink.innerHTML = docLinkHtml;\n",
              "          element.appendChild(docLink);\n",
              "        }\n",
              "      </script>\n",
              "    </div>\n",
              "  </div>\n"
            ]
          },
          "metadata": {},
          "execution_count": 19
        }
      ]
    },
    {
      "cell_type": "code",
      "source": [
        "X_train['text'] = X_train[['clean_text1','clean_text2']].apply(lambda x:str(x[0])+\" \"+str(x[1]), axis=1)"
      ],
      "metadata": {
        "id": "Wtus1hlhUM9W"
      },
      "execution_count": null,
      "outputs": []
    },
    {
      "cell_type": "code",
      "source": [
        "X_train.head()"
      ],
      "metadata": {
        "colab": {
          "base_uri": "https://localhost:8080/",
          "height": 250
        },
        "id": "zKYtSYoLUTik",
        "outputId": "be7e2ff7-2038-4c5c-a0b4-e2412a0fc851"
      },
      "execution_count": null,
      "outputs": [
        {
          "output_type": "execute_result",
          "data": {
            "text/plain": [
              "                                            clean_text1  \\\n",
              "1221  tindall wants second opinion england centre mi...   \n",
              "1651  antispam screensaver scrapped contentious camp...   \n",
              "1460  russia gets investment blessing soaring oil sa...   \n",
              "1081  celtic make late bid bellamy newcastle striker...   \n",
              "1405  vera drake scoops film award oscar hopefuls mi...   \n",
              "\n",
              "                                            clean_text2  \\\n",
              "1221  england 1718 france england suffered eighth de...   \n",
              "1651  gritty return prince persia still basking rela...   \n",
              "1460  landmark movies 2004 hailed us film profession...   \n",
              "1081  profits stall china lenovo profits chinese com...   \n",
              "1405  firefox browser takes microsoft microsoft inte...   \n",
              "\n",
              "                                                   text  \n",
              "1221  tindall wants second opinion england centre mi...  \n",
              "1651  antispam screensaver scrapped contentious camp...  \n",
              "1460  russia gets investment blessing soaring oil sa...  \n",
              "1081  celtic make late bid bellamy newcastle striker...  \n",
              "1405  vera drake scoops film award oscar hopefuls mi...  "
            ],
            "text/html": [
              "\n",
              "\n",
              "  <div id=\"df-65524bab-8b55-4512-b16d-847f717ba41c\">\n",
              "    <div class=\"colab-df-container\">\n",
              "      <div>\n",
              "<style scoped>\n",
              "    .dataframe tbody tr th:only-of-type {\n",
              "        vertical-align: middle;\n",
              "    }\n",
              "\n",
              "    .dataframe tbody tr th {\n",
              "        vertical-align: top;\n",
              "    }\n",
              "\n",
              "    .dataframe thead th {\n",
              "        text-align: right;\n",
              "    }\n",
              "</style>\n",
              "<table border=\"1\" class=\"dataframe\">\n",
              "  <thead>\n",
              "    <tr style=\"text-align: right;\">\n",
              "      <th></th>\n",
              "      <th>clean_text1</th>\n",
              "      <th>clean_text2</th>\n",
              "      <th>text</th>\n",
              "    </tr>\n",
              "  </thead>\n",
              "  <tbody>\n",
              "    <tr>\n",
              "      <th>1221</th>\n",
              "      <td>tindall wants second opinion england centre mi...</td>\n",
              "      <td>england 1718 france england suffered eighth de...</td>\n",
              "      <td>tindall wants second opinion england centre mi...</td>\n",
              "    </tr>\n",
              "    <tr>\n",
              "      <th>1651</th>\n",
              "      <td>antispam screensaver scrapped contentious camp...</td>\n",
              "      <td>gritty return prince persia still basking rela...</td>\n",
              "      <td>antispam screensaver scrapped contentious camp...</td>\n",
              "    </tr>\n",
              "    <tr>\n",
              "      <th>1460</th>\n",
              "      <td>russia gets investment blessing soaring oil sa...</td>\n",
              "      <td>landmark movies 2004 hailed us film profession...</td>\n",
              "      <td>russia gets investment blessing soaring oil sa...</td>\n",
              "    </tr>\n",
              "    <tr>\n",
              "      <th>1081</th>\n",
              "      <td>celtic make late bid bellamy newcastle striker...</td>\n",
              "      <td>profits stall china lenovo profits chinese com...</td>\n",
              "      <td>celtic make late bid bellamy newcastle striker...</td>\n",
              "    </tr>\n",
              "    <tr>\n",
              "      <th>1405</th>\n",
              "      <td>vera drake scoops film award oscar hopefuls mi...</td>\n",
              "      <td>firefox browser takes microsoft microsoft inte...</td>\n",
              "      <td>vera drake scoops film award oscar hopefuls mi...</td>\n",
              "    </tr>\n",
              "  </tbody>\n",
              "</table>\n",
              "</div>\n",
              "      <button class=\"colab-df-convert\" onclick=\"convertToInteractive('df-65524bab-8b55-4512-b16d-847f717ba41c')\"\n",
              "              title=\"Convert this dataframe to an interactive table.\"\n",
              "              style=\"display:none;\">\n",
              "\n",
              "  <svg xmlns=\"http://www.w3.org/2000/svg\" height=\"24px\"viewBox=\"0 0 24 24\"\n",
              "       width=\"24px\">\n",
              "    <path d=\"M0 0h24v24H0V0z\" fill=\"none\"/>\n",
              "    <path d=\"M18.56 5.44l.94 2.06.94-2.06 2.06-.94-2.06-.94-.94-2.06-.94 2.06-2.06.94zm-11 1L8.5 8.5l.94-2.06 2.06-.94-2.06-.94L8.5 2.5l-.94 2.06-2.06.94zm10 10l.94 2.06.94-2.06 2.06-.94-2.06-.94-.94-2.06-.94 2.06-2.06.94z\"/><path d=\"M17.41 7.96l-1.37-1.37c-.4-.4-.92-.59-1.43-.59-.52 0-1.04.2-1.43.59L10.3 9.45l-7.72 7.72c-.78.78-.78 2.05 0 2.83L4 21.41c.39.39.9.59 1.41.59.51 0 1.02-.2 1.41-.59l7.78-7.78 2.81-2.81c.8-.78.8-2.07 0-2.86zM5.41 20L4 18.59l7.72-7.72 1.47 1.35L5.41 20z\"/>\n",
              "  </svg>\n",
              "      </button>\n",
              "\n",
              "\n",
              "\n",
              "    <div id=\"df-79233070-f162-448f-ac2c-2bd487f0d961\">\n",
              "      <button class=\"colab-df-quickchart\" onclick=\"quickchart('df-79233070-f162-448f-ac2c-2bd487f0d961')\"\n",
              "              title=\"Suggest charts.\"\n",
              "              style=\"display:none;\">\n",
              "\n",
              "<svg xmlns=\"http://www.w3.org/2000/svg\" height=\"24px\"viewBox=\"0 0 24 24\"\n",
              "     width=\"24px\">\n",
              "    <g>\n",
              "        <path d=\"M19 3H5c-1.1 0-2 .9-2 2v14c0 1.1.9 2 2 2h14c1.1 0 2-.9 2-2V5c0-1.1-.9-2-2-2zM9 17H7v-7h2v7zm4 0h-2V7h2v10zm4 0h-2v-4h2v4z\"/>\n",
              "    </g>\n",
              "</svg>\n",
              "      </button>\n",
              "    </div>\n",
              "\n",
              "<style>\n",
              "  .colab-df-quickchart {\n",
              "    background-color: #E8F0FE;\n",
              "    border: none;\n",
              "    border-radius: 50%;\n",
              "    cursor: pointer;\n",
              "    display: none;\n",
              "    fill: #1967D2;\n",
              "    height: 32px;\n",
              "    padding: 0 0 0 0;\n",
              "    width: 32px;\n",
              "  }\n",
              "\n",
              "  .colab-df-quickchart:hover {\n",
              "    background-color: #E2EBFA;\n",
              "    box-shadow: 0px 1px 2px rgba(60, 64, 67, 0.3), 0px 1px 3px 1px rgba(60, 64, 67, 0.15);\n",
              "    fill: #174EA6;\n",
              "  }\n",
              "\n",
              "  [theme=dark] .colab-df-quickchart {\n",
              "    background-color: #3B4455;\n",
              "    fill: #D2E3FC;\n",
              "  }\n",
              "\n",
              "  [theme=dark] .colab-df-quickchart:hover {\n",
              "    background-color: #434B5C;\n",
              "    box-shadow: 0px 1px 3px 1px rgba(0, 0, 0, 0.15);\n",
              "    filter: drop-shadow(0px 1px 2px rgba(0, 0, 0, 0.3));\n",
              "    fill: #FFFFFF;\n",
              "  }\n",
              "</style>\n",
              "\n",
              "    <script>\n",
              "      async function quickchart(key) {\n",
              "        const containerElement = document.querySelector('#' + key);\n",
              "        const charts = await google.colab.kernel.invokeFunction(\n",
              "            'suggestCharts', [key], {});\n",
              "      }\n",
              "    </script>\n",
              "\n",
              "      <script>\n",
              "\n",
              "function displayQuickchartButton(domScope) {\n",
              "  let quickchartButtonEl =\n",
              "    domScope.querySelector('#df-79233070-f162-448f-ac2c-2bd487f0d961 button.colab-df-quickchart');\n",
              "  quickchartButtonEl.style.display =\n",
              "    google.colab.kernel.accessAllowed ? 'block' : 'none';\n",
              "}\n",
              "\n",
              "        displayQuickchartButton(document);\n",
              "      </script>\n",
              "      <style>\n",
              "    .colab-df-container {\n",
              "      display:flex;\n",
              "      flex-wrap:wrap;\n",
              "      gap: 12px;\n",
              "    }\n",
              "\n",
              "    .colab-df-convert {\n",
              "      background-color: #E8F0FE;\n",
              "      border: none;\n",
              "      border-radius: 50%;\n",
              "      cursor: pointer;\n",
              "      display: none;\n",
              "      fill: #1967D2;\n",
              "      height: 32px;\n",
              "      padding: 0 0 0 0;\n",
              "      width: 32px;\n",
              "    }\n",
              "\n",
              "    .colab-df-convert:hover {\n",
              "      background-color: #E2EBFA;\n",
              "      box-shadow: 0px 1px 2px rgba(60, 64, 67, 0.3), 0px 1px 3px 1px rgba(60, 64, 67, 0.15);\n",
              "      fill: #174EA6;\n",
              "    }\n",
              "\n",
              "    [theme=dark] .colab-df-convert {\n",
              "      background-color: #3B4455;\n",
              "      fill: #D2E3FC;\n",
              "    }\n",
              "\n",
              "    [theme=dark] .colab-df-convert:hover {\n",
              "      background-color: #434B5C;\n",
              "      box-shadow: 0px 1px 3px 1px rgba(0, 0, 0, 0.15);\n",
              "      filter: drop-shadow(0px 1px 2px rgba(0, 0, 0, 0.3));\n",
              "      fill: #FFFFFF;\n",
              "    }\n",
              "  </style>\n",
              "\n",
              "      <script>\n",
              "        const buttonEl =\n",
              "          document.querySelector('#df-65524bab-8b55-4512-b16d-847f717ba41c button.colab-df-convert');\n",
              "        buttonEl.style.display =\n",
              "          google.colab.kernel.accessAllowed ? 'block' : 'none';\n",
              "\n",
              "        async function convertToInteractive(key) {\n",
              "          const element = document.querySelector('#df-65524bab-8b55-4512-b16d-847f717ba41c');\n",
              "          const dataTable =\n",
              "            await google.colab.kernel.invokeFunction('convertToInteractive',\n",
              "                                                     [key], {});\n",
              "          if (!dataTable) return;\n",
              "\n",
              "          const docLinkHtml = 'Like what you see? Visit the ' +\n",
              "            '<a target=\"_blank\" href=https://colab.research.google.com/notebooks/data_table.ipynb>data table notebook</a>'\n",
              "            + ' to learn more about interactive tables.';\n",
              "          element.innerHTML = '';\n",
              "          dataTable['output_type'] = 'display_data';\n",
              "          await google.colab.output.renderOutput(dataTable, element);\n",
              "          const docLink = document.createElement('div');\n",
              "          docLink.innerHTML = docLinkHtml;\n",
              "          element.appendChild(docLink);\n",
              "        }\n",
              "      </script>\n",
              "    </div>\n",
              "  </div>\n"
            ]
          },
          "metadata": {},
          "execution_count": 21
        }
      ]
    },
    {
      "cell_type": "code",
      "source": [
        "import tensorflow as tf\n",
        "import keras\n",
        "import keras.backend as K"
      ],
      "metadata": {
        "id": "tItZ--tVUXnt"
      },
      "execution_count": null,
      "outputs": []
    },
    {
      "cell_type": "code",
      "source": [
        "from keras.preprocessing.text import Tokenizer\n",
        "from keras.utils import pad_sequences\n",
        "\n",
        "from keras.layers import Input, Concatenate, Flatten, Dense, Embedding, LSTM\n",
        "from keras.models import Model"
      ],
      "metadata": {
        "id": "YJxb2jVZU8oE"
      },
      "execution_count": null,
      "outputs": []
    },
    {
      "cell_type": "code",
      "source": [
        "t = Tokenizer()\n",
        "t.fit_on_texts(X_train['text'].values)"
      ],
      "metadata": {
        "id": "iZO96l8fUmNn"
      },
      "execution_count": null,
      "outputs": []
    },
    {
      "cell_type": "code",
      "source": [
        "X_train['clean_text1'] = X_train['clean_text1'].astype(str)\n",
        "X_train['clean_text2'] = X_train['clean_text2'].astype(str)"
      ],
      "metadata": {
        "id": "8FSzChWcVncf"
      },
      "execution_count": null,
      "outputs": []
    },
    {
      "cell_type": "code",
      "source": [
        "X_val['clean_text1'] = X_val['clean_text1'].astype(str)\n",
        "X_val['clean_text2'] = X_val['clean_text2'].astype(str)\n",
        "\n",
        "X_test['clean_text1'] = X_test['clean_text1'].astype(str)\n",
        "X_test['clean_text2'] = X_test['clean_text2'].astype(str)"
      ],
      "metadata": {
        "id": "L6feCxrvszxE"
      },
      "execution_count": null,
      "outputs": []
    },
    {
      "cell_type": "code",
      "source": [
        "train_text1_seq = t.texts_to_sequences(X_train['clean_text1'].values)\n",
        "train_text2_seq = t.texts_to_sequences(X_train['clean_text2'].values)\n",
        "val_text1_seq = t.texts_to_sequences(X_val['clean_text1'].values)\n",
        "val_text2_seq = t.texts_to_sequences(X_val['clean_text2'].values)\n",
        "test_text1_seq = t.texts_to_sequences(X_test['clean_text1'].values)\n",
        "test_text2_seq = t.texts_to_sequences(X_test['clean_text2'].values)"
      ],
      "metadata": {
        "id": "rTrEa2LkWs2N"
      },
      "execution_count": null,
      "outputs": []
    },
    {
      "cell_type": "code",
      "source": [
        "len_vec_1 = [len(sent_vec) for sent_vec in train_text1_seq]"
      ],
      "metadata": {
        "id": "PKKmaQt7XLwG"
      },
      "execution_count": null,
      "outputs": []
    },
    {
      "cell_type": "code",
      "source": [
        "np.max(len_vec_1)"
      ],
      "metadata": {
        "colab": {
          "base_uri": "https://localhost:8080/"
        },
        "id": "TrsmGIQuXUif",
        "outputId": "6854e20b-6a62-45ec-9093-8ea9038507d9"
      },
      "execution_count": null,
      "outputs": [
        {
          "output_type": "execute_result",
          "data": {
            "text/plain": [
              "1687"
            ]
          },
          "metadata": {},
          "execution_count": 29
        }
      ]
    },
    {
      "cell_type": "code",
      "source": [
        "sns.distplot(len_vec_1)"
      ],
      "metadata": {
        "colab": {
          "base_uri": "https://localhost:8080/",
          "height": 638
        },
        "id": "Za-N0VzsXY58",
        "outputId": "8b69fee0-a1d7-435b-db7a-8e258faab7a9"
      },
      "execution_count": null,
      "outputs": [
        {
          "output_type": "stream",
          "name": "stderr",
          "text": [
            "<ipython-input-30-863872957171>:1: UserWarning: \n",
            "\n",
            "`distplot` is a deprecated function and will be removed in seaborn v0.14.0.\n",
            "\n",
            "Please adapt your code to use either `displot` (a figure-level function with\n",
            "similar flexibility) or `histplot` (an axes-level function for histograms).\n",
            "\n",
            "For a guide to updating your code to use the new functions, please see\n",
            "https://gist.github.com/mwaskom/de44147ed2974457ad6372750bbe5751\n",
            "\n",
            "  sns.distplot(len_vec_1)\n"
          ]
        },
        {
          "output_type": "execute_result",
          "data": {
            "text/plain": [
              "<Axes: ylabel='Density'>"
            ]
          },
          "metadata": {},
          "execution_count": 30
        },
        {
          "output_type": "display_data",
          "data": {
            "text/plain": [
              "<Figure size 640x480 with 1 Axes>"
            ],
            "image/png": "[encoded data removed]"
          },
          "metadata": {}
        }
      ]
    },
    {
      "cell_type": "code",
      "source": [
        "len_vec_2 = [len(sent_vec) for sent_vec in train_text2_seq]"
      ],
      "metadata": {
        "id": "RzU_8Ep6XfQ7"
      },
      "execution_count": null,
      "outputs": []
    },
    {
      "cell_type": "code",
      "source": [
        "np.max(len_vec_2)"
      ],
      "metadata": {
        "colab": {
          "base_uri": "https://localhost:8080/"
        },
        "id": "e1620TMPX2vm",
        "outputId": "ff31ddc0-959a-40ba-c2d7-211febf200cd"
      },
      "execution_count": null,
      "outputs": [
        {
          "output_type": "execute_result",
          "data": {
            "text/plain": [
              "2206"
            ]
          },
          "metadata": {},
          "execution_count": 32
        }
      ]
    },
    {
      "cell_type": "code",
      "source": [
        "sns.distplot(len_vec_2)"
      ],
      "metadata": {
        "colab": {
          "base_uri": "https://localhost:8080/",
          "height": 638
        },
        "id": "HJ22aAz0X8Lb",
        "outputId": "8d12d1ba-02ec-40fe-c6d7-75829642ae54"
      },
      "execution_count": null,
      "outputs": [
        {
          "output_type": "stream",
          "name": "stderr",
          "text": [
            "<ipython-input-33-1a2ad05cadd2>:1: UserWarning: \n",
            "\n",
            "`distplot` is a deprecated function and will be removed in seaborn v0.14.0.\n",
            "\n",
            "Please adapt your code to use either `displot` (a figure-level function with\n",
            "similar flexibility) or `histplot` (an axes-level function for histograms).\n",
            "\n",
            "For a guide to updating your code to use the new functions, please see\n",
            "https://gist.github.com/mwaskom/de44147ed2974457ad6372750bbe5751\n",
            "\n",
            "  sns.distplot(len_vec_2)\n"
          ]
        },
        {
          "output_type": "execute_result",
          "data": {
            "text/plain": [
              "<Axes: ylabel='Density'>"
            ]
          },
          "metadata": {},
          "execution_count": 33
        },
        {
          "output_type": "display_data",
          "data": {
            "text/plain": [
              "<Figure size 640x480 with 1 Axes>"
            ],
            "image/png": "[encoded data removed]"
          },
          "metadata": {}
        }
      ]
    },
    {
      "cell_type": "code",
      "source": [
        "max_len=650"
      ],
      "metadata": {
        "id": "oWPaWfVKYSy1"
      },
      "execution_count": null,
      "outputs": []
    },
    {
      "cell_type": "code",
      "source": [
        "train_text1_seq = pad_sequences(train_text1_seq, maxlen=max_len, padding='post')\n",
        "train_text2_seq = pad_sequences(train_text2_seq, maxlen=max_len, padding='post')\n",
        "test_text1_seq = pad_sequences(test_text1_seq, maxlen=max_len, padding='post')\n",
        "test_text2_seq = pad_sequences(test_text2_seq, maxlen=max_len, padding='post')\n",
        "val_text1_seq = pad_sequences(val_text1_seq, maxlen=max_len, padding='post')\n",
        "val_text2_seq = pad_sequences(val_text2_seq, maxlen=max_len, padding='post')\n"
      ],
      "metadata": {
        "id": "rVNwu5-MYB_r"
      },
      "execution_count": null,
      "outputs": []
    },
    {
      "cell_type": "code",
      "source": [
        "print(len(train_text1_seq[0]))"
      ],
      "metadata": {
        "colab": {
          "base_uri": "https://localhost:8080/"
        },
        "id": "fgsnwyuAYk1X",
        "outputId": "ed520aef-12d4-4b7b-f254-1ed208415411"
      },
      "execution_count": null,
      "outputs": [
        {
          "output_type": "stream",
          "name": "stdout",
          "text": [
            "650\n"
          ]
        }
      ]
    },
    {
      "cell_type": "code",
      "source": [
        "!wget http://nlp.stanford.edu/data/glove.6B.zip\n",
        "!unzip -q glove.6B.zip"
      ],
      "metadata": {
        "colab": {
          "base_uri": "https://localhost:8080/"
        },
        "id": "cuycz-tbYvWx",
        "outputId": "7223c6f8-5aa5-4218-b6b0-e59d57aad043"
      },
      "execution_count": null,
      "outputs": [
        {
          "output_type": "stream",
          "name": "stdout",
          "text": [
            "--2023-07-17 10:16:24--  http://nlp.stanford.edu/data/glove.6B.zip\n",
            "Resolving nlp.stanford.edu (nlp.stanford.edu)... 171.64.67.140\n",
            "Connecting to nlp.stanford.edu (nlp.stanford.edu)|171.64.67.140|:80... connected.\n",
            "HTTP request sent, awaiting response... 302 Found\n",
            "Location: https://nlp.stanford.edu/data/glove.6B.zip [following]\n",
            "--2023-07-17 10:16:24--  https://nlp.stanford.edu/data/glove.6B.zip\n",
            "Connecting to nlp.stanford.edu (nlp.stanford.edu)|171.64.67.140|:443... connected.\n",
            "HTTP request sent, awaiting response... 301 Moved Permanently\n",
            "Location: https://downloads.cs.stanford.edu/nlp/data/glove.6B.zip [following]\n",
            "--2023-07-17 10:16:25--  https://downloads.cs.stanford.edu/nlp/data/glove.6B.zip\n",
            "Resolving downloads.cs.stanford.edu (downloads.cs.stanford.edu)... 171.64.64.22\n",
            "Connecting to downloads.cs.stanford.edu (downloads.cs.stanford.edu)|171.64.64.22|:443... connected.\n",
            "HTTP request sent, awaiting response... 200 OK\n",
            "Length: 862182613 (822M) [application/zip]\n",
            "Saving to: ‘glove.6B.zip’\n",
            "\n",
            "glove.6B.zip        100%[===================>] 822.24M  5.08MB/s    in 2m 53s  \n",
            "\n",
            "2023-07-17 10:19:18 (4.76 MB/s) - ‘glove.6B.zip’ saved [862182613/862182613]\n",
            "\n"
          ]
        }
      ]
    },
    {
      "cell_type": "code",
      "source": [
        "embeddings_index = {}\n",
        "f = open('glove.6B.300d.txt')\n",
        "for line in f:\n",
        "    values = line.split()\n",
        "    word = values[0]\n",
        "    coefs = np.asarray(values[1:], dtype='float32')\n",
        "    embeddings_index[word] = coefs\n",
        "f.close()\n",
        "\n",
        "print('Found %s word vectors.' % len(embeddings_index))"
      ],
      "metadata": {
        "colab": {
          "base_uri": "https://localhost:8080/"
        },
        "id": "8KKm3VoTbiTt",
        "outputId": "8b06d9e5-70ef-451b-ad46-d45509b5d7db"
      },
      "execution_count": null,
      "outputs": [
        {
          "output_type": "stream",
          "name": "stdout",
          "text": [
            "Found 400000 word vectors.\n"
          ]
        }
      ]
    },
    {
      "cell_type": "code",
      "source": [
        "len(embeddings_index['tree'])"
      ],
      "metadata": {
        "colab": {
          "base_uri": "https://localhost:8080/"
        },
        "id": "t8R2W7Lmby1z",
        "outputId": "a45f20fc-b535-4721-b4c8-b5dd1e712290"
      },
      "execution_count": null,
      "outputs": [
        {
          "output_type": "execute_result",
          "data": {
            "text/plain": [
              "300"
            ]
          },
          "metadata": {},
          "execution_count": 39
        }
      ]
    },
    {
      "cell_type": "code",
      "source": [
        "not_present_list = []\n",
        "vocab_size = len(t.word_index) + 1\n",
        "print('Loaded %s word vectors.' % len(embeddings_index))\n",
        "embedding_matrix = np.zeros((vocab_size, len(embeddings_index['no'])))\n",
        "for word, i in t.word_index.items():\n",
        "    if word in embeddings_index.keys():\n",
        "        embedding_vector = embeddings_index.get(word)\n",
        "    else:\n",
        "        not_present_list.append(word)\n",
        "    if embedding_vector is not None:\n",
        "        embedding_matrix[i] = embedding_vector\n",
        "    else:\n",
        "        embedding_matrix[i] = np.zeros(300)"
      ],
      "metadata": {
        "colab": {
          "base_uri": "https://localhost:8080/"
        },
        "id": "SpGDE6CHb6oe",
        "outputId": "c41f798b-4ca9-4584-d20a-eb30099219dd"
      },
      "execution_count": null,
      "outputs": [
        {
          "output_type": "stream",
          "name": "stdout",
          "text": [
            "Loaded 400000 word vectors.\n"
          ]
        }
      ]
    },
    {
      "cell_type": "code",
      "source": [
        "embedding_matrix.shape"
      ],
      "metadata": {
        "colab": {
          "base_uri": "https://localhost:8080/"
        },
        "id": "LrYtcPtDdmCH",
        "outputId": "81f18436-62e9-4941-86fe-7fb331a9dcca"
      },
      "execution_count": null,
      "outputs": [
        {
          "output_type": "execute_result",
          "data": {
            "text/plain": [
              "(27122, 300)"
            ]
          },
          "metadata": {},
          "execution_count": 41
        }
      ]
    },
    {
      "cell_type": "code",
      "source": [
        "len(t.word_index)"
      ],
      "metadata": {
        "colab": {
          "base_uri": "https://localhost:8080/"
        },
        "id": "Yc6TY5R8dvCY",
        "outputId": "30069de0-10d9-434a-e64d-8edc41cca6a5"
      },
      "execution_count": null,
      "outputs": [
        {
          "output_type": "execute_result",
          "data": {
            "text/plain": [
              "27121"
            ]
          },
          "metadata": {},
          "execution_count": 42
        }
      ]
    },
    {
      "cell_type": "code",
      "source": [
        "len(not_present_list)"
      ],
      "metadata": {
        "colab": {
          "base_uri": "https://localhost:8080/"
        },
        "id": "dctuhXUSdxct",
        "outputId": "a5e419f7-040d-4943-a458-3d42159da98a"
      },
      "execution_count": null,
      "outputs": [
        {
          "output_type": "execute_result",
          "data": {
            "text/plain": [
              "3480"
            ]
          },
          "metadata": {},
          "execution_count": 43
        }
      ]
    },
    {
      "cell_type": "code",
      "source": [
        "from keras.regularizers import l2\n",
        "from keras.models import Sequential\n",
        "from keras.optimizers import Adam\n",
        "from keras.layers import Conv2D, ZeroPadding2D, Activation, Input, concatenate\n",
        "from keras.models import Model\n",
        "\n",
        "from keras.layers.normalization.batch_normalization import BatchNormalization\n",
        "from keras.layers.pooling import MaxPooling2D\n",
        "from keras.layers import concatenate\n",
        "from keras.layers.core import Lambda, Flatten, Dense\n",
        "from keras.initializers import glorot_uniform\n",
        "from keras.layers import Input, Dense, Flatten, GlobalMaxPool2D, GlobalAvgPool2D, Concatenate, Multiply, Dropout, Subtract, Add"
      ],
      "metadata": {
        "id": "4i14D9zSd3k7"
      },
      "execution_count": null,
      "outputs": []
    },
    {
      "cell_type": "code",
      "source": [
        "from keras import backend as K\n",
        "\n",
        "def cosine_distance(vests):\n",
        "    x, y = vests\n",
        "    x = K.l2_normalize(x, axis=-1)\n",
        "    y = K.l2_normalize(y, axis=-1)\n",
        "    return -K.mean(x * y, axis=-1, keepdims=True)\n",
        "\n",
        "def cos_dist_output_shape(shapes):\n",
        "    shape1, shape2 = shapes\n",
        "    return (shape1[0],1)"
      ],
      "metadata": {
        "id": "HeDMsefAfFgW"
      },
      "execution_count": null,
      "outputs": []
    },
    {
      "cell_type": "code",
      "source": [
        "#from sklearn.metrics import roc_auc_score\n",
        "\n",
        "#def auroc(y_true, y_pred):\n",
        "#   return tf.py_func(roc_auc_score, (y_true, y_pred), tf.double)"
      ],
      "metadata": {
        "id": "rsO0CVC7nOm3"
      },
      "execution_count": null,
      "outputs": []
    },
    {
      "cell_type": "code",
      "source": [
        "print((train_text1_seq.shape))"
      ],
      "metadata": {
        "colab": {
          "base_uri": "https://localhost:8080/"
        },
        "id": "J2sPG8yboZDq",
        "outputId": "2187e183-408a-43c4-e36a-e4c4c2538f94"
      },
      "execution_count": null,
      "outputs": [
        {
          "output_type": "stream",
          "name": "stdout",
          "text": [
            "(1920, 650)\n"
          ]
        }
      ]
    },
    {
      "cell_type": "code",
      "source": [
        "input_1 = Input(shape=(train_text1_seq.shape[1],))\n",
        "input_2 = Input(shape=(train_text2_seq.shape[1],))\n",
        "common_embed = Embedding(name=\"synopsis_embedd\",input_dim =len(t.word_index)+1,\n",
        "                       output_dim=len(embeddings_index['no']),weights=[embedding_matrix],\n",
        "                       input_length=train_text1_seq.shape[1],trainable=False)\n",
        "lstm_1 = common_embed(input_1)\n",
        "lstm_2 = common_embed(input_2)\n",
        "\n",
        "common_lstm = LSTM(64,return_sequences=True, activation=\"relu\")\n",
        "vector_1 = common_lstm(lstm_1)\n",
        "vector_1 = Flatten()(vector_1)\n",
        "\n",
        "vector_2 = common_lstm(lstm_2)\n",
        "vector_2 = Flatten()(vector_2)\n",
        "\n",
        "x3 = Subtract()([vector_1, vector_2])\n",
        "x3 = Multiply()([x3, x3])\n",
        "x1_ = Multiply()([vector_1, vector_1])\n",
        "x2_ = Multiply()([vector_2, vector_2])\n",
        "x4 = Subtract()([x1_, x2_])\n",
        "\n",
        "x5 = Lambda(cosine_distance, output_shape=cos_dist_output_shape)([vector_1, vector_2])\n",
        "\n",
        "conc = Concatenate(axis=-1)([x5,x4, x3])\n",
        "\n",
        "x = Dense(100, activation=\"relu\", name='conc_layer')(conc)\n",
        "x = Dropout(0.01)(x)\n",
        "out = Dense(1, activation=\"sigmoid\", name = 'out')(x)\n",
        "\n",
        "model = Model([input_1, input_2], out)\n",
        "\n",
        "model.compile(loss=\"binary_crossentropy\", optimizer=Adam(0.00001))\n"
      ],
      "metadata": {
        "id": "_dSzOLrWqck5"
      },
      "execution_count": null,
      "outputs": []
    },
    {
      "cell_type": "code",
      "source": [
        "model.fit([train_text1_seq,train_text2_seq],y_train.values.reshape(-1,1), epochs = 5,batch_size=64,validation_data=([val_text1_seq, val_text2_seq],y_val.values.reshape(-1,1)))"
      ],
      "metadata": {
        "id": "hcYttlgvs7IV",
        "colab": {
          "base_uri": "https://localhost:8080/"
        },
        "outputId": "79dbbf97-7d8d-463c-8c2c-34a623735078"
      },
      "execution_count": null,
      "outputs": [
        {
          "output_type": "stream",
          "name": "stdout",
          "text": [
            "Epoch 1/5\n",
            "30/30 [==============================] - 75s 2s/step - loss: 0.5691 - val_loss: 0.4701\n",
            "Epoch 2/5\n",
            "30/30 [==============================] - 62s 2s/step - loss: 0.4265 - val_loss: 0.4030\n",
            "Epoch 3/5\n",
            "30/30 [==============================] - 65s 2s/step - loss: 0.3881 - val_loss: 0.3911\n",
            "Epoch 4/5\n",
            "30/30 [==============================] - 62s 2s/step - loss: 0.3773 - val_loss: 0.3858\n",
            "Epoch 5/5\n",
            "30/30 [==============================] - 60s 2s/step - loss: 0.3712 - val_loss: 0.3823\n"
          ]
        },
        {
          "output_type": "execute_result",
          "data": {
            "text/plain": [
              "<keras.callbacks.History at 0x788d9a94c640>"
            ]
          },
          "metadata": {},
          "execution_count": 49
        }
      ]
    },
    {
      "cell_type": "code",
      "source": [
        "y_pred=model.predict([test_text1_seq,test_text2_seq])\n"
      ],
      "metadata": {
        "colab": {
          "base_uri": "https://localhost:8080/"
        },
        "id": "zoh3SJ6Xv1M-",
        "outputId": "9a96a239-6da3-4759-f493-4b28a312148c"
      },
      "execution_count": null,
      "outputs": [
        {
          "output_type": "stream",
          "name": "stdout",
          "text": [
            "19/19 [==============================] - 10s 505ms/step\n"
          ]
        }
      ]
    },
    {
      "cell_type": "code",
      "source": [
        "y_pred"
      ],
      "metadata": {
        "colab": {
          "base_uri": "https://localhost:8080/"
        },
        "id": "alvxfv9_6sZV",
        "outputId": "91c1fc4c-1817-44cd-dc2b-0d68a58759a7"
      },
      "execution_count": null,
      "outputs": [
        {
          "output_type": "execute_result",
          "data": {
            "text/plain": [
              "array([[0.1581433 ],\n",
              "       [0.06457537],\n",
              "       [0.07606106],\n",
              "       [0.10917015],\n",
              "       [0.11033043],\n",
              "       [0.07137232],\n",
              "       [0.098887  ],\n",
              "       [0.11117259],\n",
              "       [0.10751624],\n",
              "       [0.09117734],\n",
              "       [0.08526909],\n",
              "       [0.19531561],\n",
              "       [0.11641086],\n",
              "       [0.16386878],\n",
              "       [0.12349001],\n",
              "       [0.12541023],\n",
              "       [0.10566409],\n",
              "       [0.14094256],\n",
              "       [0.095479  ],\n",
              "       [0.13590449],\n",
              "       [0.2233292 ],\n",
              "       [0.17118359],\n",
              "       [0.09255998],\n",
              "       [0.08092932],\n",
              "       [0.17670712],\n",
              "       [0.05722627],\n",
              "       [0.09287102],\n",
              "       [0.08821164],\n",
              "       [0.11687239],\n",
              "       [0.21944594],\n",
              "       [0.15409352],\n",
              "       [0.1618988 ],\n",
              "       [0.21325774],\n",
              "       [0.13021362],\n",
              "       [0.14026757],\n",
              "       [0.18747133],\n",
              "       [0.06866924],\n",
              "       [0.11169073],\n",
              "       [0.12675788],\n",
              "       [0.09933858],\n",
              "       [0.12990391],\n",
              "       [0.17262095],\n",
              "       [0.14469267],\n",
              "       [0.11516327],\n",
              "       [0.13625948],\n",
              "       [0.15047906],\n",
              "       [0.10570736],\n",
              "       [0.21114676],\n",
              "       [0.11489402],\n",
              "       [0.17357989],\n",
              "       [0.12035391],\n",
              "       [0.11345687],\n",
              "       [0.19601086],\n",
              "       [0.17697105],\n",
              "       [0.13732891],\n",
              "       [0.1539315 ],\n",
              "       [0.21083346],\n",
              "       [0.10152062],\n",
              "       [0.10316398],\n",
              "       [0.2536247 ],\n",
              "       [0.19796541],\n",
              "       [0.10190748],\n",
              "       [0.2865995 ],\n",
              "       [0.08810705],\n",
              "       [0.15992247],\n",
              "       [0.10259277],\n",
              "       [0.08749346],\n",
              "       [0.09754833],\n",
              "       [0.15541233],\n",
              "       [0.1683446 ],\n",
              "       [0.14824487],\n",
              "       [0.11561869],\n",
              "       [0.20218922],\n",
              "       [0.09368546],\n",
              "       [0.06039603],\n",
              "       [0.12945968],\n",
              "       [0.16113845],\n",
              "       [0.17863804],\n",
              "       [0.16198228],\n",
              "       [0.08841369],\n",
              "       [0.18011259],\n",
              "       [0.15859881],\n",
              "       [0.08317045],\n",
              "       [0.2100323 ],\n",
              "       [0.13469459],\n",
              "       [0.13914636],\n",
              "       [0.18841876],\n",
              "       [0.04016132],\n",
              "       [0.14889105],\n",
              "       [0.10896542],\n",
              "       [0.07940012],\n",
              "       [0.09118062],\n",
              "       [0.10814362],\n",
              "       [0.12438686],\n",
              "       [0.14454554],\n",
              "       [0.11911872],\n",
              "       [0.09484215],\n",
              "       [0.09870272],\n",
              "       [0.10663772],\n",
              "       [0.13094608],\n",
              "       [0.23735054],\n",
              "       [0.05696391],\n",
              "       [0.18482126],\n",
              "       [0.11375229],\n",
              "       [0.08842602],\n",
              "       [0.13428392],\n",
              "       [0.20041485],\n",
              "       [0.06363685],\n",
              "       [0.12897672],\n",
              "       [0.17689261],\n",
              "       [0.10229634],\n",
              "       [0.0938288 ],\n",
              "       [0.12651244],\n",
              "       [0.10303172],\n",
              "       [0.08928512],\n",
              "       [0.08222134],\n",
              "       [0.08748522],\n",
              "       [0.06918137],\n",
              "       [0.14233439],\n",
              "       [0.06521408],\n",
              "       [0.1317569 ],\n",
              "       [0.07010707],\n",
              "       [0.12969835],\n",
              "       [0.19306363],\n",
              "       [0.14269948],\n",
              "       [0.09771048],\n",
              "       [0.09192204],\n",
              "       [0.11030151],\n",
              "       [0.1374836 ],\n",
              "       [0.11613456],\n",
              "       [0.23543355],\n",
              "       [0.16099311],\n",
              "       [0.19170336],\n",
              "       [0.11305315],\n",
              "       [0.17325188],\n",
              "       [0.09529616],\n",
              "       [0.11230884],\n",
              "       [0.11728527],\n",
              "       [0.10249207],\n",
              "       [0.10239196],\n",
              "       [0.05900359],\n",
              "       [0.10895774],\n",
              "       [0.1304938 ],\n",
              "       [0.07976361],\n",
              "       [0.11655024],\n",
              "       [0.1620584 ],\n",
              "       [0.07309848],\n",
              "       [0.12088013],\n",
              "       [0.12037736],\n",
              "       [0.07659139],\n",
              "       [0.08031658],\n",
              "       [0.15659618],\n",
              "       [0.2174439 ],\n",
              "       [0.08124483],\n",
              "       [0.09392905],\n",
              "       [0.07752035],\n",
              "       [0.09812728],\n",
              "       [0.08544042],\n",
              "       [0.04319078],\n",
              "       [0.0922677 ],\n",
              "       [0.11164697],\n",
              "       [0.15010788],\n",
              "       [0.1153626 ],\n",
              "       [0.14468086],\n",
              "       [0.14670673],\n",
              "       [0.12667415],\n",
              "       [0.1089323 ],\n",
              "       [0.13358253],\n",
              "       [0.12288239],\n",
              "       [0.09105954],\n",
              "       [0.18841594],\n",
              "       [0.17441007],\n",
              "       [0.13188076],\n",
              "       [0.09792446],\n",
              "       [0.09230609],\n",
              "       [0.18845694],\n",
              "       [0.11369313],\n",
              "       [0.12444525],\n",
              "       [0.09805661],\n",
              "       [0.09559518],\n",
              "       [0.14789125],\n",
              "       [0.10306707],\n",
              "       [0.12397111],\n",
              "       [0.10102174],\n",
              "       [0.11106824],\n",
              "       [0.15807177],\n",
              "       [0.12447149],\n",
              "       [0.09958167],\n",
              "       [0.12228601],\n",
              "       [0.07354573],\n",
              "       [0.1076504 ],\n",
              "       [0.17623498],\n",
              "       [0.04521595],\n",
              "       [0.2019058 ],\n",
              "       [0.12857492],\n",
              "       [0.20660008],\n",
              "       [0.06962522],\n",
              "       [0.09841225],\n",
              "       [0.20284016],\n",
              "       [0.13474515],\n",
              "       [0.13011152],\n",
              "       [0.18626012],\n",
              "       [0.17029223],\n",
              "       [0.12015374],\n",
              "       [0.13437015],\n",
              "       [0.05272173],\n",
              "       [0.16184935],\n",
              "       [0.1016841 ],\n",
              "       [0.16745833],\n",
              "       [0.09051632],\n",
              "       [0.09457864],\n",
              "       [0.19152294],\n",
              "       [0.1217839 ],\n",
              "       [0.10973761],\n",
              "       [0.1272939 ],\n",
              "       [0.15361318],\n",
              "       [0.2028329 ],\n",
              "       [0.09132311],\n",
              "       [0.09321579],\n",
              "       [0.11073334],\n",
              "       [0.10836948],\n",
              "       [0.09763495],\n",
              "       [0.19791801],\n",
              "       [0.10196491],\n",
              "       [0.07765769],\n",
              "       [0.21292897],\n",
              "       [0.11272781],\n",
              "       [0.06130746],\n",
              "       [0.2259069 ],\n",
              "       [0.08372928],\n",
              "       [0.07654371],\n",
              "       [0.1180102 ],\n",
              "       [0.11087043],\n",
              "       [0.07096958],\n",
              "       [0.10458359],\n",
              "       [0.0963065 ],\n",
              "       [0.06872612],\n",
              "       [0.11117688],\n",
              "       [0.11883376],\n",
              "       [0.17460556],\n",
              "       [0.09603146],\n",
              "       [0.14318857],\n",
              "       [0.10002489],\n",
              "       [0.15129298],\n",
              "       [0.07968462],\n",
              "       [0.09947231],\n",
              "       [0.1554924 ],\n",
              "       [0.17854297],\n",
              "       [0.09002941],\n",
              "       [0.09321088],\n",
              "       [0.10111256],\n",
              "       [0.05694077],\n",
              "       [0.09853096],\n",
              "       [0.164902  ],\n",
              "       [0.08957844],\n",
              "       [0.17213999],\n",
              "       [0.25079614],\n",
              "       [0.19761908],\n",
              "       [0.18798828],\n",
              "       [0.11185302],\n",
              "       [0.23948973],\n",
              "       [0.14888501],\n",
              "       [0.14586152],\n",
              "       [0.17963138],\n",
              "       [0.0910673 ],\n",
              "       [0.14731519],\n",
              "       [0.16636986],\n",
              "       [0.11466186],\n",
              "       [0.2154157 ],\n",
              "       [0.09412986],\n",
              "       [0.13402535],\n",
              "       [0.13060056],\n",
              "       [0.1284721 ],\n",
              "       [0.09099282],\n",
              "       [0.0883886 ],\n",
              "       [0.2623843 ],\n",
              "       [0.05879736],\n",
              "       [0.11598033],\n",
              "       [0.13522406],\n",
              "       [0.16216569],\n",
              "       [0.08035479],\n",
              "       [0.15244897],\n",
              "       [0.13566355],\n",
              "       [0.14153205],\n",
              "       [0.18682319],\n",
              "       [0.12620457],\n",
              "       [0.13518618],\n",
              "       [0.1427734 ],\n",
              "       [0.10968538],\n",
              "       [0.11501058],\n",
              "       [0.0801497 ],\n",
              "       [0.12546165],\n",
              "       [0.11701211],\n",
              "       [0.15754715],\n",
              "       [0.1721344 ],\n",
              "       [0.10131788],\n",
              "       [0.11062157],\n",
              "       [0.08840802],\n",
              "       [0.1061886 ],\n",
              "       [0.14589553],\n",
              "       [0.10763478],\n",
              "       [0.1875446 ],\n",
              "       [0.13268855],\n",
              "       [0.10193343],\n",
              "       [0.06485156],\n",
              "       [0.07133255],\n",
              "       [0.08678328],\n",
              "       [0.1514516 ],\n",
              "       [0.12872502],\n",
              "       [0.08685125],\n",
              "       [0.16400559],\n",
              "       [0.12938054],\n",
              "       [0.12458584],\n",
              "       [0.08672208],\n",
              "       [0.09578834],\n",
              "       [0.09659094],\n",
              "       [0.15485682],\n",
              "       [0.11094025],\n",
              "       [0.07487217],\n",
              "       [0.10572243],\n",
              "       [0.08367492],\n",
              "       [0.08029728],\n",
              "       [0.19962642],\n",
              "       [0.24723507],\n",
              "       [0.17004246],\n",
              "       [0.27756155],\n",
              "       [0.0972858 ],\n",
              "       [0.20064688],\n",
              "       [0.12440994],\n",
              "       [0.06348886],\n",
              "       [0.06564444],\n",
              "       [0.23988757],\n",
              "       [0.17659096],\n",
              "       [0.05863474],\n",
              "       [0.06998102],\n",
              "       [0.08891063],\n",
              "       [0.1393587 ],\n",
              "       [0.23171583],\n",
              "       [0.12695797],\n",
              "       [0.17600459],\n",
              "       [0.20030423],\n",
              "       [0.14125155],\n",
              "       [0.15094589],\n",
              "       [0.24932894],\n",
              "       [0.11794513],\n",
              "       [0.07117478],\n",
              "       [0.12518798],\n",
              "       [0.14409693],\n",
              "       [0.06498073],\n",
              "       [0.22132528],\n",
              "       [0.25698525],\n",
              "       [0.1624807 ],\n",
              "       [0.0891356 ],\n",
              "       [0.15450728],\n",
              "       [0.17321075],\n",
              "       [0.20519438],\n",
              "       [0.0835739 ],\n",
              "       [0.0743065 ],\n",
              "       [0.10676444],\n",
              "       [0.11604837],\n",
              "       [0.15756287],\n",
              "       [0.08570129],\n",
              "       [0.14258042],\n",
              "       [0.13244666],\n",
              "       [0.11496328],\n",
              "       [0.10212832],\n",
              "       [0.09456916],\n",
              "       [0.1051795 ],\n",
              "       [0.18464185],\n",
              "       [0.20725997],\n",
              "       [0.14494936],\n",
              "       [0.1028185 ],\n",
              "       [0.12837   ],\n",
              "       [0.29831758],\n",
              "       [0.2660637 ],\n",
              "       [0.1417215 ],\n",
              "       [0.14239705],\n",
              "       [0.15357126],\n",
              "       [0.12474779],\n",
              "       [0.06741761],\n",
              "       [0.10964629],\n",
              "       [0.08248584],\n",
              "       [0.18884322],\n",
              "       [0.09735798],\n",
              "       [0.11755979],\n",
              "       [0.21443018],\n",
              "       [0.179619  ],\n",
              "       [0.07865046],\n",
              "       [0.08988047],\n",
              "       [0.18845749],\n",
              "       [0.25761685],\n",
              "       [0.11012737],\n",
              "       [0.08087234],\n",
              "       [0.11052313],\n",
              "       [0.07485458],\n",
              "       [0.14823051],\n",
              "       [0.17780842],\n",
              "       [0.11393896],\n",
              "       [0.18112518],\n",
              "       [0.16125248],\n",
              "       [0.09628779],\n",
              "       [0.22137527],\n",
              "       [0.16481806],\n",
              "       [0.19405755],\n",
              "       [0.06925578],\n",
              "       [0.09710019],\n",
              "       [0.0841324 ],\n",
              "       [0.18356101],\n",
              "       [0.14365754],\n",
              "       [0.09555093],\n",
              "       [0.08606112],\n",
              "       [0.08446305],\n",
              "       [0.20221058],\n",
              "       [0.16588496],\n",
              "       [0.25665072],\n",
              "       [0.17423072],\n",
              "       [0.08012802],\n",
              "       [0.07502042],\n",
              "       [0.17496538],\n",
              "       [0.18589637],\n",
              "       [0.12906763],\n",
              "       [0.14239928],\n",
              "       [0.0923601 ],\n",
              "       [0.17370853],\n",
              "       [0.09319107],\n",
              "       [0.12050351],\n",
              "       [0.16176817],\n",
              "       [0.12470819],\n",
              "       [0.1654598 ],\n",
              "       [0.10266902],\n",
              "       [0.12295274],\n",
              "       [0.12145287],\n",
              "       [0.15505499],\n",
              "       [0.10383651],\n",
              "       [0.1387243 ],\n",
              "       [0.16364098],\n",
              "       [0.1024186 ],\n",
              "       [0.13768551],\n",
              "       [0.08537111],\n",
              "       [0.11185081],\n",
              "       [0.18114942],\n",
              "       [0.18616223],\n",
              "       [0.2026397 ],\n",
              "       [0.12879112],\n",
              "       [0.13996989],\n",
              "       [0.09361017],\n",
              "       [0.21886413],\n",
              "       [0.20944238],\n",
              "       [0.10904274],\n",
              "       [0.1641254 ],\n",
              "       [0.1573451 ],\n",
              "       [0.18176353],\n",
              "       [0.10468272],\n",
              "       [0.09620969],\n",
              "       [0.06986727],\n",
              "       [0.12947561],\n",
              "       [0.09922037],\n",
              "       [0.23143652],\n",
              "       [0.17153524],\n",
              "       [0.13767289],\n",
              "       [0.1931128 ],\n",
              "       [0.17978878],\n",
              "       [0.14980246],\n",
              "       [0.1254339 ],\n",
              "       [0.0784155 ],\n",
              "       [0.14148802],\n",
              "       [0.06134776],\n",
              "       [0.10672557],\n",
              "       [0.08582923],\n",
              "       [0.12669499],\n",
              "       [0.05221119],\n",
              "       [0.05503466],\n",
              "       [0.11225116],\n",
              "       [0.14253597],\n",
              "       [0.19691911],\n",
              "       [0.08899262],\n",
              "       [0.07445849],\n",
              "       [0.17567071],\n",
              "       [0.12212401],\n",
              "       [0.16103485],\n",
              "       [0.09316298],\n",
              "       [0.0746519 ],\n",
              "       [0.08217734],\n",
              "       [0.16062686],\n",
              "       [0.08643568],\n",
              "       [0.08467339],\n",
              "       [0.12928493],\n",
              "       [0.0871169 ],\n",
              "       [0.11919763],\n",
              "       [0.11417595],\n",
              "       [0.06669939],\n",
              "       [0.07181809],\n",
              "       [0.10950164],\n",
              "       [0.26081103],\n",
              "       [0.10183281],\n",
              "       [0.17382094],\n",
              "       [0.11479675],\n",
              "       [0.11454239],\n",
              "       [0.1265794 ],\n",
              "       [0.10443747],\n",
              "       [0.14725098],\n",
              "       [0.09308686],\n",
              "       [0.15216005],\n",
              "       [0.10903009],\n",
              "       [0.17554267],\n",
              "       [0.19803214],\n",
              "       [0.1641265 ],\n",
              "       [0.07287286],\n",
              "       [0.12109427],\n",
              "       [0.19243528],\n",
              "       [0.18347703],\n",
              "       [0.13343605],\n",
              "       [0.16008341],\n",
              "       [0.12540221],\n",
              "       [0.20069124],\n",
              "       [0.07992349],\n",
              "       [0.08361081],\n",
              "       [0.1380775 ],\n",
              "       [0.11567662],\n",
              "       [0.16473141],\n",
              "       [0.10208408],\n",
              "       [0.10183253],\n",
              "       [0.09637158],\n",
              "       [0.09436277],\n",
              "       [0.16124068],\n",
              "       [0.20926368],\n",
              "       [0.17987747],\n",
              "       [0.20442666],\n",
              "       [0.14046818],\n",
              "       [0.15183789],\n",
              "       [0.05927858],\n",
              "       [0.14384948],\n",
              "       [0.1237668 ],\n",
              "       [0.22031689],\n",
              "       [0.11457591],\n",
              "       [0.17042074],\n",
              "       [0.13460495],\n",
              "       [0.1875075 ],\n",
              "       [0.04558187],\n",
              "       [0.10929656],\n",
              "       [0.19035645],\n",
              "       [0.13658977],\n",
              "       [0.05926127],\n",
              "       [0.12381757],\n",
              "       [0.19200094],\n",
              "       [0.16737323],\n",
              "       [0.12738931],\n",
              "       [0.17954712],\n",
              "       [0.15807423],\n",
              "       [0.2120214 ],\n",
              "       [0.15563472],\n",
              "       [0.11316365],\n",
              "       [0.17734788],\n",
              "       [0.08717756],\n",
              "       [0.14717683],\n",
              "       [0.1057639 ],\n",
              "       [0.13227198],\n",
              "       [0.1648927 ],\n",
              "       [0.31047526],\n",
              "       [0.13088761],\n",
              "       [0.11750983],\n",
              "       [0.23081087],\n",
              "       [0.11772461],\n",
              "       [0.14881109],\n",
              "       [0.07728823],\n",
              "       [0.10182791],\n",
              "       [0.08799216],\n",
              "       [0.08149339],\n",
              "       [0.20544837],\n",
              "       [0.12651841],\n",
              "       [0.24316989],\n",
              "       [0.08980078],\n",
              "       [0.14003335],\n",
              "       [0.183402  ],\n",
              "       [0.1004694 ],\n",
              "       [0.08972109],\n",
              "       [0.07132272],\n",
              "       [0.16118924],\n",
              "       [0.08477843],\n",
              "       [0.12909627],\n",
              "       [0.08598261],\n",
              "       [0.16744545],\n",
              "       [0.07571941],\n",
              "       [0.12607817],\n",
              "       [0.08608767],\n",
              "       [0.19846761],\n",
              "       [0.12292701],\n",
              "       [0.12092274],\n",
              "       [0.09299487],\n",
              "       [0.12717274],\n",
              "       [0.18371856],\n",
              "       [0.09245899],\n",
              "       [0.24065007],\n",
              "       [0.06577701],\n",
              "       [0.0703053 ],\n",
              "       [0.10322028],\n",
              "       [0.1918248 ],\n",
              "       [0.10493508],\n",
              "       [0.11991031],\n",
              "       [0.12947372]], dtype=float32)"
            ]
          },
          "metadata": {},
          "execution_count": 51
        }
      ]
    },
    {
      "cell_type": "code",
      "source": [
        "predicted_values = np.array(y_pred)\n",
        "true_values = np.array(y_test)\n",
        "\n",
        "# Calculate the mean absolute error (MAE)\n",
        "mae = np.mean(np.abs(predicted_values - true_values))\n",
        "\n",
        "# Calculate the accuracy\n",
        "accuracy = 1 - mae\n",
        "\n",
        "print(f\"Accuracy: {accuracy}\")"
      ],
      "metadata": {
        "colab": {
          "base_uri": "https://localhost:8080/"
        },
        "id": "SE4ieb5dY70g",
        "outputId": "f283cadc-b22c-4f95-a70b-89bcc48e2f44"
      },
      "execution_count": null,
      "outputs": [
        {
          "output_type": "stream",
          "name": "stdout",
          "text": [
            "Accuracy: 0.904316229376389\n"
          ]
        }
      ]
    }
  ]
}